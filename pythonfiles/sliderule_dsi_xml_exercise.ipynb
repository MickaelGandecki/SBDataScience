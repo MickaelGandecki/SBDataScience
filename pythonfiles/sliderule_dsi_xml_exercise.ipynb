{
 "cells": [
  {
   "cell_type": "markdown",
   "metadata": {},
   "source": [
    "# XML example and exercise\n",
    "****\n",
    "+ study examples of accessing nodes in XML tree structure  \n",
    "+ work on exercise to be completed and submitted\n",
    "****\n",
    "+ reference: https://docs.python.org/2.7/library/xml.etree.elementtree.html\n",
    "+ data source: http://www.dbis.informatik.uni-goettingen.de/Mondial\n",
    "****"
   ]
  },
  {
   "cell_type": "code",
   "execution_count": 3,
   "metadata": {
    "collapsed": true
   },
   "outputs": [],
   "source": [
    "from xml.etree import ElementTree as ET"
   ]
  },
  {
   "cell_type": "markdown",
   "metadata": {},
   "source": [
    "## XML example\n",
    "\n",
    "+ for details about tree traversal and iterators, see https://docs.python.org/2.7/library/xml.etree.elementtree.html"
   ]
  },
  {
   "cell_type": "code",
   "execution_count": 5,
   "metadata": {
    "collapsed": false
   },
   "outputs": [
    {
     "data": {
      "text/plain": [
       "xml.etree.ElementTree.ElementTree"
      ]
     },
     "execution_count": 5,
     "metadata": {},
     "output_type": "execute_result"
    }
   ],
   "source": [
    "document_tree = ET.parse( './data/mondial_database_less.xml' )"
   ]
  },
  {
   "cell_type": "code",
   "execution_count": 6,
   "metadata": {
    "collapsed": false
   },
   "outputs": [
    {
     "name": "stdout",
     "output_type": "stream",
     "text": [
      "Albania\n",
      "Greece\n",
      "Macedonia\n",
      "Serbia\n",
      "Montenegro\n",
      "Kosovo\n",
      "Andorra\n"
     ]
    }
   ],
   "source": [
    "# print names of all countries\n",
    "for child in document_tree.getroot():\n",
    "    print child.find('name').text"
   ]
  },
  {
   "cell_type": "code",
   "execution_count": 5,
   "metadata": {
    "collapsed": false
   },
   "outputs": [
    {
     "name": "stdout",
     "output_type": "stream",
     "text": [
      "* Albania: Tirana, Shkodër, Durrës, Vlorë, Elbasan, Korçë\n",
      "* Greece: Komotini, Kavala, Athina, Peiraias, Peristeri, Acharnes, Patra, Kozani, Kerkyra, Ioannina, Thessaloniki, Iraklio, Chania, Ermoupoli, Rhodes, Tripoli, Lamia, Chalkida, Larissa, Volos, Mytilini, Karyes\n",
      "* Macedonia: Skopje, Kumanovo\n",
      "* Serbia: Beograd, Novi Sad, Niš\n",
      "* Montenegro: Podgorica\n",
      "* Kosovo: Prishtine\n",
      "* Andorra: Andorra la Vella\n"
     ]
    }
   ],
   "source": [
    "# print names of all countries and their cities\n",
    "for element in document_tree.iterfind('country'):\n",
    "    print '* ' + element.find('name').text + ':',\n",
    "    capitals_string = ''\n",
    "    for subelement in element.getiterator('city'):\n",
    "        capitals_string += subelement.find('name').text + ', '\n",
    "    print capitals_string[:-2]"
   ]
  },
  {
   "cell_type": "markdown",
   "metadata": {},
   "source": [
    "****\n",
    "## XML exercise\n",
    "\n",
    "Using data in 'data/mondial_database.xml', the examples above, and refering to https://docs.python.org/2.7/library/xml.etree.elementtree.html, find\n",
    "\n",
    "1. 10 countries with the lowest infant mortality rates\n",
    "2. 10 cities with the largest population\n",
    "3. 10 ethnic groups with the largest overall populations (sum of best/latest estimates over all countries)\n",
    "4. name and country of a) longest river, b) largest lake and c) airport at highest elevation"
   ]
  },
  {
   "cell_type": "code",
   "execution_count": 24,
   "metadata": {
    "collapsed": false
   },
   "outputs": [
    {
     "name": "stdout",
     "output_type": "stream",
     "text": [
      "[('Monaco', 1.81), ('Japan', 2.13), ('Norway', 2.48), ('Bermuda', 2.48), ('Singapore', 2.53), ('Sweden', 2.6), ('Czech Republic', 2.63), ('Hong Kong', 2.73), ('Macao', 3.13), ('Iceland', 3.15)]\n"
     ]
    }
   ],
   "source": [
    "document = ET.parse( './data/mondial_database.xml' )\n",
    "country=\"\";\n",
    "mortality=0;\n",
    "mortalityList=[];\n",
    "\n",
    "for element in document.iterfind('country'):\n",
    "    country=element.find('name').text\n",
    "    node=element.find('infant_mortality')\n",
    "    if node != None:\n",
    "        mortality=float(node.text)\n",
    "        mortalityList.append((country,mortality))\n",
    "sortedCountry_by_second = sorted(mortalityList, key=lambda tup: tup[1])[0:10]\n",
    "print(sortedCountry_by_second)\n"
   ]
  },
  {
   "cell_type": "code",
   "execution_count": 40,
   "metadata": {
    "collapsed": false
   },
   "outputs": [
    {
     "name": "stdout",
     "output_type": "stream",
     "text": [
      "[('India-Mumbai', 12442373.0), ('India-Delhi', 11034555.0), ('India-Bangalore', 8443675.0), ('United Kingdom-London', 8250205.0), ('Iran-Tehran', 8154051.0), ('Bangladesh-Dhaka', 7423137.0), ('India-Hyderabad', 6731790.0), ('India-Ahmadabad', 5577940.0), ('Angola-Luanda', 5000000.0), ('India-Chennai', 4646732.0)]\n"
     ]
    }
   ],
   "source": [
    "city=\"\"\n",
    "population=0;\n",
    "populationList=[];\n",
    "\n",
    "for element in document.iterfind('country'):\n",
    "    for subelement in element.getiterator('city'):\n",
    "        city=subelement.find('name').text\n",
    "        for pop in subelement.getiterator('population'):\n",
    "            if pop.attrib['year']=='2011':\n",
    "                population=float(pop.text)\n",
    "                populationList.append((element.find('name').text+'-'+city,population))\n",
    "sortedCity_by_second = sorted(populationList, key=lambda tup: tup[1],reverse=True)[0:10]\n",
    "print(sortedCity_by_second)"
   ]
  },
  {
   "cell_type": "code",
   "execution_count": 67,
   "metadata": {
    "collapsed": false
   },
   "outputs": [
    {
     "name": "stdout",
     "output_type": "stream",
     "text": [
      "[('Polish', 3760435896.3), ('Chinese', 735730628.0), ('Arab', 733887960.0), ('Indo-Aryan', 726213024.0), ('African', 443165508.7), ('Dravidian', 252157300.0), ('Slovene', 186602536.0), ('Ovimbundu', 185000000.0), ('Hungarian', 163970427.4), ('Kimbundu', 125000000.0)]\n"
     ]
    }
   ],
   "source": [
    "ethnicGroupDict={}\n",
    "ethnicName=\"\";\n",
    "for element in document.iterfind('country'):\n",
    "    country=element.find('name').text\n",
    "    population=0;\n",
    "    pct=0;\n",
    "    for pop in element.getiterator('population'):\n",
    "        if pop.attrib['year']=='2011':\n",
    "            population=float(pop.text)\n",
    "    for ethGroup in element.getiterator('ethnicgroup'):\n",
    "        pct = float(ethGroup.attrib['percentage'])\n",
    "        ethnicName = ethGroup.text\n",
    "        if ethnicName in ethnicGroupDict:\n",
    "           ethnicGroupDict[ethnicName] = ethnicGroupDict[ethnicName] + pct * population\n",
    "        else:\n",
    "           ethnicGroupDict[ethnicName] = pct * population\n",
    "ethnicGroupDictSort=sorted(ethnicGroupDict.items(), key=lambda tup: tup[1],reverse=True)[0:10]\n",
    "print(ethnicGroupDictSort)"
   ]
  },
  {
   "cell_type": "code",
   "execution_count": 115,
   "metadata": {
    "collapsed": false
   },
   "outputs": [
    {
     "name": "stdout",
     "output_type": "stream",
     "text": [
      "('BR-Amazonas', 6448.0)\n"
     ]
    }
   ],
   "source": [
    "#long river\n",
    "riverName=\"\"\n",
    "riverLength=0;\n",
    "riverList=[]\n",
    "for element in document.iterfind('river'):\n",
    "    riverName= element.find('name').text\n",
    "    if element.find('length') != None:\n",
    "        riverLength= float(element.find('length').text)\n",
    "    for located in element.getiterator('located'):\n",
    "        country= located.attrib['country']\n",
    "    riverList.append((country+\"-\"+riverName,riverLength))\n",
    "sortedRiver = sorted(riverList, key=lambda tup: tup[1],reverse=True)[0]\n",
    "print(sortedRiver)"
   ]
  },
  {
   "cell_type": "code",
   "execution_count": 118,
   "metadata": {
    "collapsed": false
   },
   "outputs": [
    {
     "name": "stdout",
     "output_type": "stream",
     "text": [
      "('TM-Caspian Sea', 386400.0)\n"
     ]
    }
   ],
   "source": [
    "#largest lake\n",
    "lakeName=\"\"\n",
    "lakeArea=0.0;\n",
    "lakeList=[]\n",
    "for element in document.iterfind('lake'):\n",
    "    lakeName= element.find('name').text\n",
    "    if element.find('area') != None:\n",
    "        lakeArea= float(element.find('area').text)\n",
    "    for located in element.getiterator('located'):\n",
    "        country= located.attrib['country']\n",
    "    lakeList.append((country+\"-\"+lakeName,lakeArea))\n",
    "sortedLake = sorted(lakeList, key=lambda tup: tup[1],reverse=True)[0]\n",
    "print(sortedLake)"
   ]
  },
  {
   "cell_type": "code",
   "execution_count": 119,
   "metadata": {
    "collapsed": false
   },
   "outputs": [
    {
     "name": "stdout",
     "output_type": "stream",
     "text": [
      "('BOL-LPB', 4063.0)\n"
     ]
    }
   ],
   "source": [
    "#airport highest elevation\n",
    "airportName=\"\"\n",
    "airportElevation=0.0;\n",
    "airportList=[]\n",
    "for element in document.iterfind('airport'):\n",
    "    airportName = element.attrib['country']+\"-\"+element.attrib['iatacode']\n",
    "    if element.find('elevation').text != None:\n",
    "       airportElevation = float(element.find('elevation').text)\n",
    "       airportList.append((airportName,airportElevation))\n",
    "sortedAirport = sorted(airportList, key=lambda tup: tup[1],reverse=True)[0]\n",
    "print(sortedAirport)"
   ]
  }
 ],
 "metadata": {
  "kernelspec": {
   "display_name": "Python 2",
   "language": "python",
   "name": "python2"
  },
  "language_info": {
   "codemirror_mode": {
    "name": "ipython",
    "version": 2
   },
   "file_extension": ".py",
   "mimetype": "text/x-python",
   "name": "python",
   "nbconvert_exporter": "python",
   "pygments_lexer": "ipython2",
   "version": "2.7.13"
  }
 },
 "nbformat": 4,
 "nbformat_minor": 0
}
