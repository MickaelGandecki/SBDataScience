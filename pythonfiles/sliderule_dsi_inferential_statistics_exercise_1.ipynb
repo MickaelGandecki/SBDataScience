{
 "cells": [
  {
   "cell_type": "markdown",
   "metadata": {},
   "source": [
    "# What is the True Normal Human Body Temperature? \n",
    "\n",
    "#### Background\n",
    "\n",
    "The mean normal body temperature was held to be 37$^{\\circ}$C or 98.6$^{\\circ}$F for more than 120 years since it was first conceptualized and reported by Carl Wunderlich in a famous 1868 book. But, is this value statistically correct?"
   ]
  },
  {
   "cell_type": "markdown",
   "metadata": {},
   "source": [
    "<div class=\"span5 alert alert-info\">\n",
    "<h3>Exercises</h3>\n",
    "\n",
    "<p>In this exercise, you will analyze a dataset of human body temperatures and employ the concepts of hypothesis testing, confidence intervals, and statistical significance.</p>\n",
    "\n",
    "<p>Answer the following questions <b>in this notebook below and submit to your Github account</b>.</p> \n",
    "\n",
    "<ol>\n",
    "<li>  Is the distribution of body temperatures normal? \n",
    "    <ul>\n",
    "    <li> Although this is not a requirement for CLT to hold (read CLT carefully), it gives us some peace of mind that the population may also be normally distributed if we assume that this sample is representative of the population.\n",
    "    </ul>\n",
    "<li>  Is the sample size large? Are the observations independent?\n",
    "    <ul>\n",
    "    <li> Remember that this is a condition for the CLT, and hence the statistical tests we are using, to apply.\n",
    "    </ul>\n",
    "<li>  Is the true population mean really 98.6 degrees F?\n",
    "    <ul>\n",
    "    <li> Would you use a one-sample or two-sample test? Why?\n",
    "    <li> In this situation, is it appropriate to use the $t$ or $z$ statistic? \n",
    "    <li> Now try using the other test. How is the result be different? Why?\n",
    "    </ul>\n",
    "<li>  At what temperature should we consider someone's temperature to be \"abnormal\"?\n",
    "    <ul>\n",
    "    <li> Start by computing the margin of error and confidence interval.\n",
    "    </ul>\n",
    "<li>  Is there a significant difference between males and females in normal temperature?\n",
    "    <ul>\n",
    "    <li> What test did you use and why?\n",
    "    <li> Write a story with your conclusion in the context of the original problem.\n",
    "    </ul>\n",
    "</ol>\n",
    "\n",
    "You can include written notes in notebook cells using Markdown: \n",
    "   - In the control panel at the top, choose Cell > Cell Type > Markdown\n",
    "   - Markdown syntax: http://nestacms.com/docs/creating-content/markdown-cheat-sheet\n",
    "\n",
    "#### Resources\n",
    "\n",
    "+ Information and data sources: http://www.amstat.org/publications/jse/datasets/normtemp.txt, http://www.amstat.org/publications/jse/jse_data_archive.htm\n",
    "+ Markdown syntax: http://nestacms.com/docs/creating-content/markdown-cheat-sheet\n",
    "\n",
    "****\n",
    "</div>"
   ]
  },
  {
   "cell_type": "code",
   "execution_count": 14,
   "metadata": {
    "collapsed": false
   },
   "outputs": [],
   "source": [
    "import pandas as pd\n",
    "%matplotlib inline\n"
   ]
  },
  {
   "cell_type": "markdown",
   "metadata": {},
   "source": [
    "Question 1: Is the distribution nomal\n",
    "We print the histogram here after"
   ]
  },
  {
   "cell_type": "code",
   "execution_count": 15,
   "metadata": {
    "collapsed": false
   },
   "outputs": [
    {
     "data": {
      "text/plain": [
       "array([[<matplotlib.axes._subplots.AxesSubplot object at 0x0000005883A7C128>]], dtype=object)"
      ]
     },
     "execution_count": 15,
     "metadata": {},
     "output_type": "execute_result"
    },
    {
     "data": {
      "image/png": "[encoded data removed]",
      "text/plain": [
       "<matplotlib.figure.Figure at 0x5883b180b8>"
      ]
     },
     "metadata": {},
     "output_type": "display_data"
    }
   ],
   "source": [
    "df = pd.read_csv('data/human_body_temperature.csv')\n",
    "df.hist(column='temperature',bins=10)\n"
   ]
  },
  {
   "cell_type": "markdown",
   "metadata": {},
   "source": [
    "The histogram represent a gaussian curve, so we can consider in first approximation, the distribution as a normal distribution."
   ]
  },
  {
   "cell_type": "code",
   "execution_count": 51,
   "metadata": {
    "collapsed": false
   },
   "outputs": [
    {
     "name": "stdout",
     "output_type": "stream",
     "text": [
      "Mean is :  98.24923076923078\n",
      "Standard deviation is :  0.7331831580389454\n",
      "Proportion in one standard deviation is : 0.6923076923076923\n",
      "Proportion in two standard deviation is : 0.9461538461538461\n",
      "Proportion in three standard deviation is : 0.9923076923076923\n"
     ]
    }
   ],
   "source": [
    "Temp = df['temperature']\n",
    "Tmean= Temp.mean()\n",
    "Tstd = Temp.std()\n",
    "\n",
    "print ('Mean is : ',Tmean)\n",
    "print ('Standard deviation is : ',Tstd)\n",
    "Prop1std = len(Temp[(Temp>Tmean-Tstd) & (Temp<Tmean+Tstd)])/len(Temp)\n",
    "Prop2std = len(Temp[(Temp>Tmean-2*Tstd) & (Temp<Tmean+2*Tstd)])/len(Temp)\n",
    "Prop3std = len(Temp[(Temp>Tmean-3*Tstd) & (Temp<Tmean+3*Tstd)])/len(Temp)\n",
    "\n",
    "print('Proportion in one standard deviation is :',Prop1std)\n",
    "print('Proportion in two standard deviation is :',Prop2std)\n",
    "print('Proportion in three standard deviation is :',Prop3std)"
   ]
  },
  {
   "cell_type": "markdown",
   "metadata": {},
   "source": [
    "We can see the distribution follow approximativly the normal distribution with 68% for 1 std, 95% for 2 std and 97.5 for 3 std, this confirm our first analysis with the histogram."
   ]
  },
  {
   "cell_type": "markdown",
   "metadata": {},
   "source": [
    "Question 2) Is the sample size large ? Yes it is because the number of observation is > 100"
   ]
  },
  {
   "cell_type": "markdown",
   "metadata": {},
   "source": [
    "Is the true population mean temperature really 98.6 degree F? \n",
    "We will use one sample test because it is the temperature of the body idependently of the sexe.\n",
    "We will test how the sample differs from the standard distribution using this method of scipy\n",
    "\n"
   ]
  },
  {
   "cell_type": "code",
   "execution_count": 53,
   "metadata": {
    "collapsed": false
   },
   "outputs": [
    {
     "name": "stdout",
     "output_type": "stream",
     "text": [
      "NormaltestResult(statistic=2.7038014333192031, pvalue=0.2587479863488254)\n"
     ]
    }
   ],
   "source": [
    "import scipy.stats as stats\n",
    "\n",
    "print(stats.normaltest(Temp))\n"
   ]
  },
  {
   "cell_type": "markdown",
   "metadata": {},
   "source": [
    "The pvalue of the distribution is approximatively 26% is greather than the general 5% thresold so not significant. The Null hypothesis can't be rejected. So we can do the assumption the temperature are normally distributed."
   ]
  },
  {
   "cell_type": "markdown",
   "metadata": {},
   "source": [
    "H0 = 98.6\n",
    "\n",
    "H1 <> 98.6\n",
    "\n",
    "And alpha = 5%\n",
    "\n",
    "Question 3)\n",
    "\n",
    "We can use a t test because the population > 30 and we use the statsmodel library to do the test\n"
   ]
  },
  {
   "cell_type": "code",
   "execution_count": 55,
   "metadata": {
    "collapsed": false
   },
   "outputs": [
    {
     "name": "stdout",
     "output_type": "stream",
     "text": [
      "(-5.4548232923645195, 4.9021570141012155e-08)\n"
     ]
    }
   ],
   "source": [
    "from statsmodels.stats.weightstats import ztest\n",
    "print(ztest(Temp,value=98.6))"
   ]
  },
  {
   "cell_type": "markdown",
   "metadata": {},
   "source": [
    "So the p value obtained is very small compared to the thresold of 5%, we reject the null hypothesis saying the true population temperature mean is 98.6."
   ]
  },
  {
   "cell_type": "markdown",
   "metadata": {},
   "source": [
    "Question 4)\n",
    "\n",
    "At what temperature should we considere the temperature abnormal?\n",
    "\n",
    "A 95% confidence interval would be good. \n",
    "The margin of error (merr) = critical value x standard error\n",
    "The critical value is 1.96 for a 95% confidence interval and the standard error (stderr) is:\n",
    "\n"
   ]
  },
  {
   "cell_type": "code",
   "execution_count": 58,
   "metadata": {
    "collapsed": false
   },
   "outputs": [
    {
     "name": "stdout",
     "output_type": "stream",
     "text": [
      "[98.123194112228518, 98.375267426233037]\n"
     ]
    }
   ],
   "source": [
    "import numpy as np\n",
    "stderr = Tstd/np.sqrt(len(Temp))\n",
    "merr = 1.96*stderr\n",
    "ci = [Tmean-merr,Tmean+merr]\n",
    "print(ci)"
   ]
  },
  {
   "cell_type": "markdown",
   "metadata": {},
   "source": [
    "So we can consider the temperature is abnormal if it is not in this interval.\n",
    "\n",
    "Question 5) Is there a sigificant difference between male and female in normal temperature"
   ]
  },
  {
   "cell_type": "code",
   "execution_count": 62,
   "metadata": {
    "collapsed": false
   },
   "outputs": [
    {
     "name": "stdout",
     "output_type": "stream",
     "text": [
      "Mean for female : 98.39384615384613\n",
      "Mean for male   : 98.1046153846154\n",
      "Length female   obs : 65\n",
      "Length male     obs : 65\n"
     ]
    }
   ],
   "source": [
    "dfFemale=df.loc[df['gender']=='F']\n",
    "dfMale=df.loc[df['gender']=='M']\n",
    "\n",
    "print('Mean for female :',dfFemale['temperature'].mean())\n",
    "print('Mean for male   :',dfMale['temperature'].mean())\n",
    "print('Length female   obs :',len(dfFemale['temperature']))\n",
    "print('Length male     obs :',len(dfMale['temperature']))"
   ]
  },
  {
   "cell_type": "markdown",
   "metadata": {},
   "source": [
    "We will use a two sample Tests to check the difference between the means of two independent populations is equal to the target value."
   ]
  },
  {
   "cell_type": "code",
   "execution_count": 64,
   "metadata": {
    "collapsed": false
   },
   "outputs": [
    {
     "name": "stdout",
     "output_type": "stream",
     "text": [
      "Ttest_indResult(statistic=2.2854345381656103, pvalue=0.023931883122395609)\n"
     ]
    }
   ],
   "source": [
    "print(stats.ttest_ind(dfFemale['temperature'],dfMale['temperature']))"
   ]
  },
  {
   "cell_type": "markdown",
   "metadata": {},
   "source": [
    "# With this small p value we can reject the null hypothesis and conclude, temperatures difference are significant between men and women but The temperature mean for the true population is 98.6"
   ]
  }
 ],
 "metadata": {
  "kernelspec": {
   "display_name": "Python 3",
   "language": "python",
   "name": "python3"
  },
  "language_info": {
   "codemirror_mode": {
    "name": "ipython",
    "version": 3
   },
   "file_extension": ".py",
   "mimetype": "text/x-python",
   "name": "python",
   "nbconvert_exporter": "python",
   "pygments_lexer": "ipython3",
   "version": "3.6.0"
  }
 },
 "nbformat": 4,
 "nbformat_minor": 0
}
