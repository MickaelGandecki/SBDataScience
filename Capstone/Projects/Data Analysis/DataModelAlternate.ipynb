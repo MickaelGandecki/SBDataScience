{
 "cells": [
  {
   "cell_type": "code",
   "execution_count": 207,
   "metadata": {
    "collapsed": false
   },
   "outputs": [
    {
     "name": "stdout",
     "output_type": "stream",
     "text": [
      "Populating the interactive namespace from numpy and matplotlib\n"
     ]
    }
   ],
   "source": [
    "%pylab inline \n",
    "import pandas as pd\n",
    "import numpy as np\n",
    "import matplotlib.pyplot as plt\n",
    "\n",
    "def load_acquisition_data(filelocation):\n",
    "    format = '%Y-%m-%d %H:%M:%S,%f'\n",
    "    df =pd.read_csv(filelocation, sep=';',parse_dates=True);\n",
    "    times = pd.to_datetime(df.DateTime , format=format)\n",
    "    df.set_index(times, inplace=True)\n",
    "    return df\n",
    "\n",
    "pumpdata = load_acquisition_data('..\\data\\PumpMeasuresFormated.csv')"
   ]
  },
  {
   "cell_type": "markdown",
   "metadata": {},
   "source": [
    "We will normalize the entryload to have a value varying between 0 and 100"
   ]
  },
  {
   "cell_type": "code",
   "execution_count": 208,
   "metadata": {
    "collapsed": false
   },
   "outputs": [],
   "source": [
    "pumpdata[\"NormEntryLoad\"]= pumpdata[\"EntryLoad\"]/255*100"
   ]
  },
  {
   "cell_type": "markdown",
   "metadata": {},
   "source": [
    "With the statsmodel library we will clean the noise contained in the current of the pump measured and we keep the trend. This process is already shown in the data visualisation and analysis.\n",
    "\n",
    "Current Filtered represents the trend of the current obtained by the seasonal analysis <br>\n",
    "The value measured of the current is obtained in labjack U3 via an analog to numeric converter with 12 bits precision <br>\n",
    "An amplifier operational with a gain and offset is used to convert the measure of the tension on the shunt to\n",
    "a voltage varying form 0 to 2.44 volt <br>\n",
    "The amplifier operational function transfert is a linear function with a gain of 11.8 and an offset of -3.85 <br>\n",
    "The shunt resistor value is 0.5 ohm <br>\n",
    "The formula here after transform the numeric value returned by the CAN to the intensity consumed by the pump\n"
   ]
  },
  {
   "cell_type": "code",
   "execution_count": 209,
   "metadata": {
    "collapsed": false
   },
   "outputs": [
    {
     "name": "stderr",
     "output_type": "stream",
     "text": [
      "C:\\Anaconda343\\lib\\site-packages\\statsmodels\\tsa\\filters\\filtertools.py:28: VisibleDeprecationWarning: using a non-integer number instead of an integer will result in an error in the future\n",
      "  return np.r_[[np.nan] * head, x, [np.nan] * tail]\n"
     ]
    }
   ],
   "source": [
    "import statsmodels.api as sm\n",
    "#Feature ingeneering add the filtered current column in the dataframe\n",
    "decompfreq = 50\n",
    "res = sm.tsa.seasonal_decompose(pumpdata.PumpCurrent.interpolate(),freq=decompfreq, model='additive')\n",
    "\n",
    "pumpdata[\"CurrentFiltered\"] = ((res.trend/4095)*2.44 +3.85)/(11.8*0.5)"
   ]
  },
  {
   "cell_type": "markdown",
   "metadata": {},
   "source": [
    "The flow meter provide 97 pulse for each litter <br>\n",
    "The flow measure period is 10s <br>\n",
    "The flow in l/h is obtained by (Nbpulse/97)*360"
   ]
  },
  {
   "cell_type": "code",
   "execution_count": 210,
   "metadata": {
    "collapsed": true
   },
   "outputs": [],
   "source": [
    "#convert the flow pulse\n",
    "pumpdata[\"Flow\"]=(pumpdata[\"Flow\"]/97)*360"
   ]
  },
  {
   "cell_type": "code",
   "execution_count": 211,
   "metadata": {
    "collapsed": true
   },
   "outputs": [],
   "source": [
    "#Remove row containing NaN value\n",
    "pumpdataCleaned= pumpdata.dropna()"
   ]
  },
  {
   "cell_type": "markdown",
   "metadata": {},
   "source": [
    "The current decomposition process with the stats model library produce some NaN values. We will remove these records from the dataset in the next steps."
   ]
  },
  {
   "cell_type": "code",
   "execution_count": 212,
   "metadata": {
    "collapsed": true
   },
   "outputs": [],
   "source": [
    "from sklearn.model_selection import train_test_split\n",
    "\n",
    "def split_train_test(data) :\n",
    "    trainSet, testSet = train_test_split(data, test_size = 0.2, random_state=2)\n",
    "    return trainSet, testSet"
   ]
  },
  {
   "cell_type": "code",
   "execution_count": 213,
   "metadata": {
    "collapsed": false
   },
   "outputs": [
    {
     "data": {
      "text/html": [
       "<div>\n",
       "<table border=\"1\" class=\"dataframe\">\n",
       "  <thead>\n",
       "    <tr style=\"text-align: right;\">\n",
       "      <th></th>\n",
       "      <th>Id</th>\n",
       "      <th>Cycle</th>\n",
       "      <th>DateTime</th>\n",
       "      <th>Flow</th>\n",
       "      <th>EntryLoad</th>\n",
       "      <th>OutputLoad</th>\n",
       "      <th>PumpCurrent</th>\n",
       "      <th>PumpVelocity</th>\n",
       "      <th>NormEntryLoad</th>\n",
       "      <th>CurrentFiltered</th>\n",
       "    </tr>\n",
       "    <tr>\n",
       "      <th>DateTime</th>\n",
       "      <th></th>\n",
       "      <th></th>\n",
       "      <th></th>\n",
       "      <th></th>\n",
       "      <th></th>\n",
       "      <th></th>\n",
       "      <th></th>\n",
       "      <th></th>\n",
       "      <th></th>\n",
       "      <th></th>\n",
       "    </tr>\n",
       "  </thead>\n",
       "  <tbody>\n",
       "    <tr>\n",
       "      <th>2017-04-23 14:44:05.248</th>\n",
       "      <td>25</td>\n",
       "      <td>1</td>\n",
       "      <td>2017-04-23 14:44:05,248</td>\n",
       "      <td>371.134021</td>\n",
       "      <td>130</td>\n",
       "      <td>100</td>\n",
       "      <td>4027</td>\n",
       "      <td>10</td>\n",
       "      <td>50.980392</td>\n",
       "      <td>1.052355</td>\n",
       "    </tr>\n",
       "    <tr>\n",
       "      <th>2017-04-23 14:44:18.277</th>\n",
       "      <td>26</td>\n",
       "      <td>1</td>\n",
       "      <td>2017-04-23 14:44:18,277</td>\n",
       "      <td>371.134021</td>\n",
       "      <td>125</td>\n",
       "      <td>100</td>\n",
       "      <td>3981</td>\n",
       "      <td>10</td>\n",
       "      <td>49.019608</td>\n",
       "      <td>1.052139</td>\n",
       "    </tr>\n",
       "    <tr>\n",
       "      <th>2017-04-23 14:44:31.306</th>\n",
       "      <td>27</td>\n",
       "      <td>1</td>\n",
       "      <td>2017-04-23 14:44:31,306</td>\n",
       "      <td>367.422680</td>\n",
       "      <td>120</td>\n",
       "      <td>100</td>\n",
       "      <td>3590</td>\n",
       "      <td>10</td>\n",
       "      <td>47.058824</td>\n",
       "      <td>1.050217</td>\n",
       "    </tr>\n",
       "    <tr>\n",
       "      <th>2017-04-23 14:44:44.337</th>\n",
       "      <td>28</td>\n",
       "      <td>1</td>\n",
       "      <td>2017-04-23 14:44:44,337</td>\n",
       "      <td>371.134021</td>\n",
       "      <td>115</td>\n",
       "      <td>100</td>\n",
       "      <td>4280</td>\n",
       "      <td>10</td>\n",
       "      <td>45.098039</td>\n",
       "      <td>1.049443</td>\n",
       "    </tr>\n",
       "    <tr>\n",
       "      <th>2017-04-23 14:44:57.367</th>\n",
       "      <td>29</td>\n",
       "      <td>1</td>\n",
       "      <td>2017-04-23 14:44:57,367</td>\n",
       "      <td>363.711340</td>\n",
       "      <td>110</td>\n",
       "      <td>100</td>\n",
       "      <td>3709</td>\n",
       "      <td>10</td>\n",
       "      <td>43.137255</td>\n",
       "      <td>1.049048</td>\n",
       "    </tr>\n",
       "  </tbody>\n",
       "</table>\n",
       "</div>"
      ],
      "text/plain": [
       "                         Id  Cycle                 DateTime        Flow  \\\n",
       "DateTime                                                                  \n",
       "2017-04-23 14:44:05.248  25      1  2017-04-23 14:44:05,248  371.134021   \n",
       "2017-04-23 14:44:18.277  26      1  2017-04-23 14:44:18,277  371.134021   \n",
       "2017-04-23 14:44:31.306  27      1  2017-04-23 14:44:31,306  367.422680   \n",
       "2017-04-23 14:44:44.337  28      1  2017-04-23 14:44:44,337  371.134021   \n",
       "2017-04-23 14:44:57.367  29      1  2017-04-23 14:44:57,367  363.711340   \n",
       "\n",
       "                         EntryLoad  OutputLoad  PumpCurrent  PumpVelocity  \\\n",
       "DateTime                                                                    \n",
       "2017-04-23 14:44:05.248        130         100         4027            10   \n",
       "2017-04-23 14:44:18.277        125         100         3981            10   \n",
       "2017-04-23 14:44:31.306        120         100         3590            10   \n",
       "2017-04-23 14:44:44.337        115         100         4280            10   \n",
       "2017-04-23 14:44:57.367        110         100         3709            10   \n",
       "\n",
       "                         NormEntryLoad  CurrentFiltered  \n",
       "DateTime                                                 \n",
       "2017-04-23 14:44:05.248      50.980392         1.052355  \n",
       "2017-04-23 14:44:18.277      49.019608         1.052139  \n",
       "2017-04-23 14:44:31.306      47.058824         1.050217  \n",
       "2017-04-23 14:44:44.337      45.098039         1.049443  \n",
       "2017-04-23 14:44:57.367      43.137255         1.049048  "
      ]
     },
     "execution_count": 213,
     "metadata": {},
     "output_type": "execute_result"
    }
   ],
   "source": [
    "pumpdataCleaned.head()"
   ]
  },
  {
   "cell_type": "code",
   "execution_count": 183,
   "metadata": {
    "collapsed": false
   },
   "outputs": [
    {
     "name": "stdout",
     "output_type": "stream",
     "text": [
      "<class 'pandas.core.frame.DataFrame'>\n",
      "DatetimeIndex: 1930 entries, 2017-04-23 14:44:05.248000 to 2017-04-23 22:45:48.584000\n",
      "Data columns (total 10 columns):\n",
      "Id                 1930 non-null int64\n",
      "Cycle              1930 non-null int64\n",
      "DateTime           1930 non-null object\n",
      "Flow               1930 non-null float64\n",
      "EntryLoad          1930 non-null int64\n",
      "OutputLoad         1930 non-null int64\n",
      "PumpCurrent        1930 non-null int64\n",
      "PumpVelocity       1930 non-null int64\n",
      "NormEntryLoad      1930 non-null float64\n",
      "CurrentFiltered    1930 non-null float64\n",
      "dtypes: float64(3), int64(6), object(1)\n",
      "memory usage: 165.9+ KB\n"
     ]
    }
   ],
   "source": [
    "pumpdataCleaned.info()"
   ]
  },
  {
   "cell_type": "code",
   "execution_count": 184,
   "metadata": {
    "collapsed": false
   },
   "outputs": [
    {
     "data": {
      "text/plain": [
       "<matplotlib.collections.PathCollection at 0x1244ed5710>"
      ]
     },
     "execution_count": 184,
     "metadata": {},
     "output_type": "execute_result"
    },
    {
     "data": {
      "image/png": "[encoded data removed]",
      "text/plain": [
       "<matplotlib.figure.Figure at 0x1243941f60>"
      ]
     },
     "metadata": {},
     "output_type": "display_data"
    }
   ],
   "source": [
    "plt.figure(figsize=(10,10))\n",
    "plt.scatter(pumpdataCleaned.CurrentFiltered, pumpdataCleaned.NormEntryLoad, s=20)"
   ]
  },
  {
   "cell_type": "code",
   "execution_count": 185,
   "metadata": {
    "collapsed": false
   },
   "outputs": [
    {
     "data": {
      "text/plain": [
       "Flow               1.000000\n",
       "CurrentFiltered    0.524873\n",
       "PumpCurrent        0.506637\n",
       "EntryLoad          0.492545\n",
       "NormEntryLoad      0.492545\n",
       "OutputLoad         0.407186\n",
       "PumpVelocity       0.390925\n",
       "Id                -0.575186\n",
       "Cycle             -0.592585\n",
       "Name: Flow, dtype: float64"
      ]
     },
     "execution_count": 185,
     "metadata": {},
     "output_type": "execute_result"
    }
   ],
   "source": [
    "corrMatrix = pumpdataCleaned.corr()\n",
    "corrMatrix[\"Flow\"].sort_values(ascending=False)"
   ]
  },
  {
   "cell_type": "code",
   "execution_count": 186,
   "metadata": {
    "collapsed": false
   },
   "outputs": [],
   "source": [
    "trainSet, testSet = split_train_test(pumpdataCleaned)"
   ]
  },
  {
   "cell_type": "markdown",
   "metadata": {},
   "source": [
    "We create a new dataset keeping only the most important parameters of the model:\n",
    "- Current consumed by the pump\n",
    "- Pump Velocity selection on the control unit\n",
    "- Output load controled by the manual valve\n",
    "- Entry load controled by the entry valve\n",
    "\n",
    "We will try with the help of the PCA to construct a simplified model (2 dimensions) and represent it in a chart."
   ]
  },
  {
   "cell_type": "code",
   "execution_count": 187,
   "metadata": {
    "collapsed": false
   },
   "outputs": [],
   "source": [
    "trainSet = trainSet.drop(\"PumpCurrent\",axis=1)\n",
    "trainSet = trainSet.drop(\"EntryLoad\",axis=1)\n",
    "trainSet = trainSet.drop(\"Flow\",axis=1)\n",
    "trainSet = trainSet.drop(\"Cycle\",axis=1)\n",
    "trainSet = trainSet.drop(\"Id\",axis=1)\n",
    "trainSet = trainSet.drop(\"DateTime\",axis=1)"
   ]
  },
  {
   "cell_type": "code",
   "execution_count": 188,
   "metadata": {
    "collapsed": false
   },
   "outputs": [
    {
     "data": {
      "text/html": [
       "<div>\n",
       "<table border=\"1\" class=\"dataframe\">\n",
       "  <thead>\n",
       "    <tr style=\"text-align: right;\">\n",
       "      <th></th>\n",
       "      <th>OutputLoad</th>\n",
       "      <th>PumpVelocity</th>\n",
       "      <th>NormEntryLoad</th>\n",
       "      <th>CurrentFiltered</th>\n",
       "    </tr>\n",
       "    <tr>\n",
       "      <th>DateTime</th>\n",
       "      <th></th>\n",
       "      <th></th>\n",
       "      <th></th>\n",
       "      <th></th>\n",
       "    </tr>\n",
       "  </thead>\n",
       "  <tbody>\n",
       "    <tr>\n",
       "      <th>2017-04-23 19:34:18.116</th>\n",
       "      <td>50</td>\n",
       "      <td>10</td>\n",
       "      <td>15.686275</td>\n",
       "      <td>0.978082</td>\n",
       "    </tr>\n",
       "    <tr>\n",
       "      <th>2017-04-23 16:01:01.146</th>\n",
       "      <td>100</td>\n",
       "      <td>9</td>\n",
       "      <td>99.607843</td>\n",
       "      <td>1.016098</td>\n",
       "    </tr>\n",
       "    <tr>\n",
       "      <th>2017-04-23 17:19:37.539</th>\n",
       "      <td>100</td>\n",
       "      <td>7</td>\n",
       "      <td>87.058824</td>\n",
       "      <td>0.919309</td>\n",
       "    </tr>\n",
       "    <tr>\n",
       "      <th>2017-04-23 20:34:05.840</th>\n",
       "      <td>50</td>\n",
       "      <td>9</td>\n",
       "      <td>53.333333</td>\n",
       "      <td>0.990225</td>\n",
       "    </tr>\n",
       "    <tr>\n",
       "      <th>2017-04-23 18:22:17.162</th>\n",
       "      <td>100</td>\n",
       "      <td>6</td>\n",
       "      <td>61.960784</td>\n",
       "      <td>0.821709</td>\n",
       "    </tr>\n",
       "  </tbody>\n",
       "</table>\n",
       "</div>"
      ],
      "text/plain": [
       "                         OutputLoad  PumpVelocity  NormEntryLoad  \\\n",
       "DateTime                                                           \n",
       "2017-04-23 19:34:18.116          50            10      15.686275   \n",
       "2017-04-23 16:01:01.146         100             9      99.607843   \n",
       "2017-04-23 17:19:37.539         100             7      87.058824   \n",
       "2017-04-23 20:34:05.840          50             9      53.333333   \n",
       "2017-04-23 18:22:17.162         100             6      61.960784   \n",
       "\n",
       "                         CurrentFiltered  \n",
       "DateTime                                  \n",
       "2017-04-23 19:34:18.116         0.978082  \n",
       "2017-04-23 16:01:01.146         1.016098  \n",
       "2017-04-23 17:19:37.539         0.919309  \n",
       "2017-04-23 20:34:05.840         0.990225  \n",
       "2017-04-23 18:22:17.162         0.821709  "
      ]
     },
     "execution_count": 188,
     "metadata": {},
     "output_type": "execute_result"
    }
   ],
   "source": [
    "trainSet.head()"
   ]
  },
  {
   "cell_type": "code",
   "execution_count": 189,
   "metadata": {
    "collapsed": false
   },
   "outputs": [
    {
     "data": {
      "text/plain": [
       "<matplotlib.collections.PathCollection at 0x1244f15400>"
      ]
     },
     "execution_count": 189,
     "metadata": {},
     "output_type": "execute_result"
    },
    {
     "data": {
      "image/png": "[encoded data removed]",
      "text/plain": [
       "<matplotlib.figure.Figure at 0x1244ee8d68>"
      ]
     },
     "metadata": {},
     "output_type": "display_data"
    }
   ],
   "source": [
    "x_cols = trainSet.as_matrix()\n",
    "from sklearn.decomposition import PCA\n",
    "\n",
    "#Calculate the PCA for two components\n",
    "pca = PCA(n_components=2)\n",
    "x_converted=pca.fit_transform(x_cols)\n",
    "#Create a dataframe with the x,y coordinate of the PCA\n",
    "d = {'pcax':x_converted[:,0], 'pcay':x_converted[:,1]}\n",
    "df = pd.DataFrame(d, index=trainSet.index)\n",
    "plt.figure(figsize=(10,10))\n",
    "plt.scatter(df.pcax, df.pcay, s=20)"
   ]
  },
  {
   "cell_type": "markdown",
   "metadata": {},
   "source": [
    "# PCA analysis\n",
    "We can observe after model complexity reduction with PCA, we can't obtain only one continuous model that represent the relation between the current consumed by the pump and the entry load or the flow delivered. \n",
    "\n",
    "In the next step of this study we will do an analysis using a Tree regressor to predict the flow and the entry load. Because the model is non linear or linear by interval , decision tree is a good solution to address this problem. For this analysis some function are developped to simplify the analysis and could be reused for the two analysis.\n"
   ]
  },
  {
   "cell_type": "markdown",
   "metadata": {},
   "source": [
    "# Modeling\n",
    "\n",
    "These functions are tools used to extract the feature set and the label set from the training and test data\n",
    "Training set is obtained from the opening valve input phase and the test set is obtained from the closing valve input phase."
   ]
  },
  {
   "cell_type": "code",
   "execution_count": 104,
   "metadata": {
    "collapsed": true
   },
   "outputs": [],
   "source": [
    "def get_feature(data):\n",
    "    featureSet = data.copy();\n",
    "    featureSet = featureSet.drop(\"EntryLoad\",axis=1)\n",
    "    featureSet = featureSet.drop(\"NormEntryLoad\",axis=1)\n",
    "    featureSet = featureSet.drop(\"Flow\",axis=1) \n",
    "        \n",
    "    featureSet = featureSet.drop(\"PumpCurrent\",axis=1)\n",
    "    featureSet = featureSet.drop(\"Cycle\",axis=1)\n",
    "    featureSet = featureSet.drop(\"Id\",axis=1)\n",
    "    featureSet = featureSet.drop(\"DateTime\",axis=1)\n",
    "    return featureSet\n",
    "\n",
    "def get_featurePlusCycle(data):\n",
    "    featureSet = data.copy();\n",
    "    featureSet = featureSet.drop(\"EntryLoad\",axis=1)\n",
    "    featureSet = featureSet.drop(\"NormEntryLoad\",axis=1)\n",
    "    featureSet = featureSet.drop(\"Flow\",axis=1)\n",
    "        \n",
    "    featureSet = featureSet.drop(\"PumpCurrent\",axis=1)\n",
    "    featureSet = featureSet.drop(\"Id\",axis=1)\n",
    "    featureSet = featureSet.drop(\"DateTime\",axis=1)\n",
    "    return featureSet\n",
    "\n",
    "def get_label(data,label=\"Flow\"):\n",
    "    labelset = data[label].copy()\n",
    "    return labelset"
   ]
  },
  {
   "cell_type": "code",
   "execution_count": 105,
   "metadata": {
    "collapsed": false
   },
   "outputs": [],
   "source": [
    "from sklearn.tree import _tree\n",
    "\n",
    "def print_tree(t, root=0, depth=1):\n",
    "    if depth == 1:\n",
    "        print('def predict(X_i):')\n",
    "    indent = '    '*depth\n",
    "    print (indent + '# node %s: impurity = %.2f' % (str(root), t.impurity[root]))\n",
    "    left_child = t.children_left[root]\n",
    "    right_child = t.children_right[root]\n",
    "     \n",
    "    if left_child == _tree.TREE_LEAF:\n",
    "        print (indent + 'return %s # (node %d)' % (str(t.value[root]), root))\n",
    "    else:\n",
    "        print (indent + 'if X_i[%d] < %.2f: # (node %d)' % (t.feature[root], t.threshold[root], root))\n",
    "        print_tree(t, root=left_child, depth=depth+1)\n",
    "         \n",
    "        print (indent + 'else:')\n",
    "        print_tree(t,root=right_child, depth=depth+1)"
   ]
  },
  {
   "cell_type": "code",
   "execution_count": 106,
   "metadata": {
    "collapsed": true
   },
   "outputs": [],
   "source": [
    "from sklearn.tree import DecisionTreeRegressor\n",
    "from sklearn.ensemble import RandomForestRegressor\n",
    "from sklearn.model_selection import GridSearchCV\n",
    "\n",
    "def fitandPredictCV(labelName,ncv=5):\n",
    "    testfeatures = get_feature(testSet)\n",
    "    param_grid = [\n",
    "        {'min_samples_leaf':[1,2,3,4,5,6,7,8,9,10,11,12,13,14,15,16,17,18,19,20], \n",
    "         'max_depth':[1,2,3,4,5,6,7,8,9,10,11,12,13,14,15,16,17,18,19,20]}\n",
    "    ]\n",
    "    dt_reg = DecisionTreeRegressor(random_state=2)    \n",
    "    grid_search =GridSearchCV(dt_reg,param_grid,cv=ncv)\n",
    "    grid_search.fit(trainfeatures,trainlabels)\n",
    "    print(\"KFold number    :\", ncv)\n",
    "    print(\"Best Params     :\" ,grid_search.best_params_)\n",
    "    print(\"Best Score R^2  :\" ,grid_search.best_score_)\n",
    "    \n",
    "    predictions= grid_search.best_estimator_.predict(testfeatures)\n",
    "    return predictions, grid_search.best_estimator_"
   ]
  },
  {
   "cell_type": "code",
   "execution_count": 107,
   "metadata": {
    "collapsed": true
   },
   "outputs": [],
   "source": [
    "def plotLabelversusPrediction(dataset,label,prediction):\n",
    "    displayds = get_featurePlusCycle(dataset)\n",
    "    displayds[label]= get_label(dataset,label)\n",
    "    displayds[\"prediction\"]=prediction\n",
    "    plt.figure(figsize=(15,15))\n",
    "    colors = ['blue','red','magenta','yellow','cyan','black','tan','skyblue','silver','coral','peru']\n",
    "    for cycle in range(1,12):\n",
    "        subset = displayds[displayds.Cycle==cycle].dropna()\n",
    "        cyclename = label+ ':' + str(cycle)\n",
    "        if label==\"NormEntryLoad\":\n",
    "            plt.scatter(subset.CurrentFiltered, subset.NormEntryLoad, s=20, c=colors[cycle-1], label=cyclename)\n",
    "        else:\n",
    "            plt.scatter(subset.CurrentFiltered, subset.Flow, s=20, c=colors[cycle-1], label=cyclename)            \n",
    "        cyclename = 'Prediction: ' + str(cycle)\n",
    "        plt.scatter(subset.CurrentFiltered, subset.prediction, s=20, marker='D', c=colors[cycle-1], label=cyclename)\n",
    "    plt.legend()"
   ]
  },
  {
   "cell_type": "markdown",
   "metadata": {},
   "source": [
    "# Predict the flow in function of the current consumed by the pump"
   ]
  },
  {
   "cell_type": "markdown",
   "metadata": {},
   "source": [
    "We will keep only the features and the label we will use for the model"
   ]
  },
  {
   "cell_type": "code",
   "execution_count": 190,
   "metadata": {
    "collapsed": false
   },
   "outputs": [],
   "source": [
    "trainSet, testSet = split_train_test(pumpdataCleaned)\n",
    "trainfeatures = get_feature(trainSet)\n",
    "trainlabels = get_label(trainSet,\"Flow\")"
   ]
  },
  {
   "cell_type": "code",
   "execution_count": 191,
   "metadata": {
    "collapsed": false
   },
   "outputs": [
    {
     "name": "stdout",
     "output_type": "stream",
     "text": [
      "<class 'pandas.core.frame.DataFrame'>\n",
      "DatetimeIndex: 1544 entries, 2017-04-23 19:34:18.116000 to 2017-04-23 19:54:42.984000\n",
      "Data columns (total 3 columns):\n",
      "OutputLoad         1544 non-null int64\n",
      "PumpVelocity       1544 non-null int64\n",
      "CurrentFiltered    1544 non-null float64\n",
      "dtypes: float64(1), int64(2)\n",
      "memory usage: 48.2 KB\n"
     ]
    },
    {
     "data": {
      "text/html": [
       "<div>\n",
       "<table border=\"1\" class=\"dataframe\">\n",
       "  <thead>\n",
       "    <tr style=\"text-align: right;\">\n",
       "      <th></th>\n",
       "      <th>OutputLoad</th>\n",
       "      <th>PumpVelocity</th>\n",
       "      <th>CurrentFiltered</th>\n",
       "    </tr>\n",
       "    <tr>\n",
       "      <th>DateTime</th>\n",
       "      <th></th>\n",
       "      <th></th>\n",
       "      <th></th>\n",
       "    </tr>\n",
       "  </thead>\n",
       "  <tbody>\n",
       "    <tr>\n",
       "      <th>2017-04-23 19:34:18.116</th>\n",
       "      <td>50</td>\n",
       "      <td>10</td>\n",
       "      <td>0.978082</td>\n",
       "    </tr>\n",
       "    <tr>\n",
       "      <th>2017-04-23 16:01:01.146</th>\n",
       "      <td>100</td>\n",
       "      <td>9</td>\n",
       "      <td>1.016098</td>\n",
       "    </tr>\n",
       "    <tr>\n",
       "      <th>2017-04-23 17:19:37.539</th>\n",
       "      <td>100</td>\n",
       "      <td>7</td>\n",
       "      <td>0.919309</td>\n",
       "    </tr>\n",
       "    <tr>\n",
       "      <th>2017-04-23 20:34:05.840</th>\n",
       "      <td>50</td>\n",
       "      <td>9</td>\n",
       "      <td>0.990225</td>\n",
       "    </tr>\n",
       "    <tr>\n",
       "      <th>2017-04-23 18:22:17.162</th>\n",
       "      <td>100</td>\n",
       "      <td>6</td>\n",
       "      <td>0.821709</td>\n",
       "    </tr>\n",
       "  </tbody>\n",
       "</table>\n",
       "</div>"
      ],
      "text/plain": [
       "                         OutputLoad  PumpVelocity  CurrentFiltered\n",
       "DateTime                                                          \n",
       "2017-04-23 19:34:18.116          50            10         0.978082\n",
       "2017-04-23 16:01:01.146         100             9         1.016098\n",
       "2017-04-23 17:19:37.539         100             7         0.919309\n",
       "2017-04-23 20:34:05.840          50             9         0.990225\n",
       "2017-04-23 18:22:17.162         100             6         0.821709"
      ]
     },
     "execution_count": 191,
     "metadata": {},
     "output_type": "execute_result"
    }
   ],
   "source": [
    "trainfeatures.info()\n",
    "trainfeatures.head()"
   ]
  },
  {
   "cell_type": "code",
   "execution_count": 192,
   "metadata": {
    "collapsed": false
   },
   "outputs": [
    {
     "data": {
      "text/plain": [
       "DateTime\n",
       "2017-04-23 19:34:18.116    237.525773\n",
       "2017-04-23 16:01:01.146    289.484536\n",
       "2017-04-23 17:19:37.539    274.639175\n",
       "2017-04-23 20:34:05.840    252.371134\n",
       "2017-04-23 18:22:17.162    256.082474\n",
       "Name: Flow, dtype: float64"
      ]
     },
     "execution_count": 192,
     "metadata": {},
     "output_type": "execute_result"
    }
   ],
   "source": [
    "trainlabels.head()"
   ]
  },
  {
   "cell_type": "code",
   "execution_count": 193,
   "metadata": {
    "collapsed": false
   },
   "outputs": [
    {
     "name": "stdout",
     "output_type": "stream",
     "text": [
      "KFold number    : 11\n",
      "Best Params     : {'max_depth': 9, 'min_samples_leaf': 17}\n",
      "Best Score R^2  : 0.698867359826\n"
     ]
    }
   ],
   "source": [
    "predictions,bestmodel= fitandPredictCV(\"Flow\",11)"
   ]
  },
  {
   "cell_type": "code",
   "execution_count": 194,
   "metadata": {
    "collapsed": false
   },
   "outputs": [
    {
     "data": {
      "image/png": "[encoded data removed]",
      "text/plain": [
       "<matplotlib.figure.Figure at 0x12452e1d30>"
      ]
     },
     "metadata": {},
     "output_type": "display_data"
    }
   ],
   "source": [
    "plotLabelversusPrediction(testSet,\"Flow\",predictions)"
   ]
  },
  {
   "cell_type": "code",
   "execution_count": 195,
   "metadata": {
    "collapsed": false
   },
   "outputs": [
    {
     "name": "stdout",
     "output_type": "stream",
     "text": [
      "def predict(X_i):\n",
      "    # node 0: impurity = 6341.14\n",
      "    if X_i[2] < 0.98: # (node 0)\n",
      "        # node 1: impurity = 4897.96\n",
      "        if X_i[0] < 75.00: # (node 1)\n",
      "            # node 2: impurity = 4518.27\n",
      "            if X_i[2] < 0.88: # (node 2)\n",
      "                # node 3: impurity = 1275.03\n",
      "                if X_i[2] < 0.82: # (node 3)\n",
      "                    # node 4: impurity = 901.72\n",
      "                    if X_i[2] < 0.80: # (node 4)\n",
      "                        # node 5: impurity = 521.04\n",
      "                        return [[ 41.3814433]] # (node 5)\n",
      "                    else:\n",
      "                        # node 6: impurity = 558.44\n",
      "                        if X_i[2] < 0.82: # (node 6)\n",
      "                            # node 7: impurity = 544.26\n",
      "                            if X_i[2] < 0.81: # (node 7)\n",
      "                                # node 8: impurity = 349.26\n",
      "                                return [[ 82.52274106]] # (node 8)\n",
      "                            else:\n",
      "                                # node 9: impurity = 706.26\n",
      "                                return [[ 89.27835052]] # (node 9)\n",
      "                        else:\n",
      "                            # node 10: impurity = 557.22\n",
      "                            return [[ 79.50081389]] # (node 10)\n",
      "                else:\n",
      "                    # node 11: impurity = 732.40\n",
      "                    if X_i[2] < 0.84: # (node 11)\n",
      "                        # node 12: impurity = 1257.81\n",
      "                        if X_i[1] < 6.50: # (node 12)\n",
      "                            # node 13: impurity = 6.29\n",
      "                            if X_i[2] < 0.83: # (node 13)\n",
      "                                # node 14: impurity = 5.05\n",
      "                                return [[ 121.03757898]] # (node 14)\n",
      "                            else:\n",
      "                                # node 15: impurity = 6.29\n",
      "                                return [[ 122.91085506]] # (node 15)\n",
      "                        else:\n",
      "                            # node 16: impurity = 2806.51\n",
      "                            return [[ 85.65773196]] # (node 16)\n",
      "                    else:\n",
      "                        # node 17: impurity = 210.62\n",
      "                        if X_i[2] < 0.86: # (node 17)\n",
      "                            # node 18: impurity = 202.95\n",
      "                            if X_i[2] < 0.85: # (node 18)\n",
      "                                # node 19: impurity = 192.91\n",
      "                                return [[ 127.35756918]] # (node 19)\n",
      "                            else:\n",
      "                                # node 20: impurity = 139.65\n",
      "                                return [[ 139.46825827]] # (node 20)\n",
      "                        else:\n",
      "                            # node 21: impurity = 199.16\n",
      "                            if X_i[2] < 0.87: # (node 21)\n",
      "                                # node 22: impurity = 344.78\n",
      "                                return [[ 121.38265616]] # (node 22)\n",
      "                            else:\n",
      "                                # node 23: impurity = 137.65\n",
      "                                if X_i[2] < 0.88: # (node 23)\n",
      "                                    # node 24: impurity = 124.18\n",
      "                                    return [[ 132.28276878]] # (node 24)\n",
      "                                else:\n",
      "                                    # node 25: impurity = 117.17\n",
      "                                    return [[ 124.08785298]] # (node 25)\n",
      "            else:\n",
      "                # node 26: impurity = 3814.90\n",
      "                if X_i[2] < 0.90: # (node 26)\n",
      "                    # node 27: impurity = 1902.12\n",
      "                    if X_i[2] < 0.90: # (node 27)\n",
      "                        # node 28: impurity = 399.89\n",
      "                        return [[ 165.23532048]] # (node 28)\n",
      "                    else:\n",
      "                        # node 29: impurity = 3808.31\n",
      "                        return [[ 150.41843542]] # (node 29)\n",
      "                else:\n",
      "                    # node 30: impurity = 3888.18\n",
      "                    if X_i[2] < 0.97: # (node 30)\n",
      "                        # node 31: impurity = 3234.06\n",
      "                        if X_i[2] < 0.95: # (node 31)\n",
      "                            # node 32: impurity = 2086.63\n",
      "                            if X_i[2] < 0.92: # (node 32)\n",
      "                                # node 33: impurity = 1345.59\n",
      "                                if X_i[2] < 0.91: # (node 33)\n",
      "                                    # node 34: impurity = 1180.10\n",
      "                                    if X_i[2] < 0.90: # (node 34)\n",
      "                                        # node 35: impurity = 1096.97\n",
      "                                        return [[ 202.81382656]] # (node 35)\n",
      "                                    else:\n",
      "                                        # node 36: impurity = 1241.70\n",
      "                                        return [[ 198.37113402]] # (node 36)\n",
      "                                else:\n",
      "                                    # node 37: impurity = 1553.08\n",
      "                                    return [[ 189.78444236]] # (node 37)\n",
      "                            else:\n",
      "                                # node 38: impurity = 2252.80\n",
      "                                if X_i[2] < 0.93: # (node 38)\n",
      "                                    # node 39: impurity = 2534.35\n",
      "                                    if X_i[2] < 0.93: # (node 39)\n",
      "                                        # node 40: impurity = 1124.59\n",
      "                                        return [[ 236.65979381]] # (node 40)\n",
      "                                    else:\n",
      "                                        # node 41: impurity = 3792.68\n",
      "                                        return [[ 192.77137659]] # (node 41)\n",
      "                                else:\n",
      "                                    # node 42: impurity = 869.64\n",
      "                                    return [[ 250.72164948]] # (node 42)\n",
      "                        else:\n",
      "                            # node 43: impurity = 4635.76\n",
      "                            if X_i[2] < 0.96: # (node 43)\n",
      "                                # node 44: impurity = 7336.91\n",
      "                                return [[ 149.44329897]] # (node 44)\n",
      "                            else:\n",
      "                                # node 45: impurity = 1659.34\n",
      "                                if X_i[2] < 0.97: # (node 45)\n",
      "                                    # node 46: impurity = 831.55\n",
      "                                    return [[ 233.33555038]] # (node 46)\n",
      "                                else:\n",
      "                                    # node 47: impurity = 2055.62\n",
      "                                    return [[ 201.87039764]] # (node 47)\n",
      "                    else:\n",
      "                        # node 48: impurity = 7338.04\n",
      "                        return [[ 149.46579194]] # (node 48)\n",
      "        else:\n",
      "            # node 49: impurity = 3385.88\n",
      "            if X_i[2] < 0.76: # (node 49)\n",
      "                # node 50: impurity = 2814.32\n",
      "                return [[ 129.76435935]] # (node 50)\n",
      "            else:\n",
      "                # node 51: impurity = 2990.26\n",
      "                if X_i[1] < 7.50: # (node 51)\n",
      "                    # node 52: impurity = 2677.41\n",
      "                    if X_i[2] < 0.92: # (node 52)\n",
      "                        # node 53: impurity = 2852.54\n",
      "                        if X_i[2] < 0.90: # (node 53)\n",
      "                            # node 54: impurity = 2209.72\n",
      "                            if X_i[2] < 0.82: # (node 54)\n",
      "                                # node 55: impurity = 2908.03\n",
      "                                if X_i[2] < 0.81: # (node 55)\n",
      "                                    # node 56: impurity = 696.63\n",
      "                                    if X_i[2] < 0.76: # (node 56)\n",
      "                                        # node 57: impurity = 575.95\n",
      "                                        return [[ 209.43602183]] # (node 57)\n",
      "                                    else:\n",
      "                                        # node 58: impurity = 247.85\n",
      "                                        return [[ 246.39678149]] # (node 58)\n",
      "                                else:\n",
      "                                    # node 59: impurity = 5797.99\n",
      "                                    if X_i[2] < 0.82: # (node 59)\n",
      "                                        # node 60: impurity = 3081.95\n",
      "                                        return [[ 156.31291692]] # (node 60)\n",
      "                                    else:\n",
      "                                        # node 61: impurity = 8258.69\n",
      "                                        return [[ 141.64948454]] # (node 61)\n",
      "                            else:\n",
      "                                # node 62: impurity = 649.20\n",
      "                                if X_i[2] < 0.82: # (node 62)\n",
      "                                    # node 63: impurity = 1043.14\n",
      "                                    if X_i[2] < 0.82: # (node 63)\n",
      "                                        # node 64: impurity = 770.49\n",
      "                                        return [[ 244.73013948]] # (node 64)\n",
      "                                    else:\n",
      "                                        # node 65: impurity = 1053.26\n",
      "                                        return [[ 223.03387334]] # (node 65)\n",
      "                                else:\n",
      "                                    # node 66: impurity = 353.68\n",
      "                                    if X_i[2] < 0.83: # (node 66)\n",
      "                                        # node 67: impurity = 370.90\n",
      "                                        return [[ 251.81443299]] # (node 67)\n",
      "                                    else:\n",
      "                                        # node 68: impurity = 334.16\n",
      "                                        return [[ 245.33505155]] # (node 68)\n",
      "                        else:\n",
      "                            # node 69: impurity = 3833.86\n",
      "                            if X_i[2] < 0.91: # (node 69)\n",
      "                                # node 70: impurity = 4786.97\n",
      "                                if X_i[2] < 0.91: # (node 70)\n",
      "                                    # node 71: impurity = 2020.57\n",
      "                                    return [[ 170.04686036]] # (node 71)\n",
      "                                else:\n",
      "                                    # node 72: impurity = 7679.53\n",
      "                                    return [[ 135.13644633]] # (node 72)\n",
      "                            else:\n",
      "                                # node 73: impurity = 1030.00\n",
      "                                if X_i[2] < 0.92: # (node 73)\n",
      "                                    # node 74: impurity = 1125.22\n",
      "                                    return [[ 198.7628866]] # (node 74)\n",
      "                                else:\n",
      "                                    # node 75: impurity = 500.82\n",
      "                                    return [[ 229.36082474]] # (node 75)\n",
      "                    else:\n",
      "                        # node 76: impurity = 301.33\n",
      "                        if X_i[2] < 0.93: # (node 76)\n",
      "                            # node 77: impurity = 226.62\n",
      "                            if X_i[2] < 0.93: # (node 77)\n",
      "                                # node 78: impurity = 417.57\n",
      "                                return [[ 259.79381443]] # (node 78)\n",
      "                            else:\n",
      "                                # node 79: impurity = 74.77\n",
      "                                return [[ 267.21649485]] # (node 79)\n",
      "                        else:\n",
      "                            # node 80: impurity = 10.10\n",
      "                            return [[ 238.18071559]] # (node 80)\n",
      "                else:\n",
      "                    # node 81: impurity = 4136.45\n",
      "                    if X_i[2] < 0.97: # (node 81)\n",
      "                        # node 82: impurity = 4237.46\n",
      "                        if X_i[2] < 0.96: # (node 82)\n",
      "                            # node 83: impurity = 1785.63\n",
      "                            return [[ 161.6853429]] # (node 83)\n",
      "                        else:\n",
      "                            # node 84: impurity = 6019.31\n",
      "                            return [[ 184.37407953]] # (node 84)\n",
      "                    else:\n",
      "                        # node 85: impurity = 416.32\n",
      "                        return [[ 244.77975633]] # (node 85)\n",
      "    else:\n",
      "        # node 86: impurity = 3963.44\n",
      "        if X_i[2] < 1.04: # (node 86)\n",
      "            # node 87: impurity = 3983.93\n",
      "            if X_i[1] < 9.50: # (node 87)\n",
      "                # node 88: impurity = 3422.07\n",
      "                if X_i[2] < 1.02: # (node 88)\n",
      "                    # node 89: impurity = 3131.70\n",
      "                    if X_i[2] < 1.01: # (node 89)\n",
      "                        # node 90: impurity = 219.36\n",
      "                        if X_i[0] < 75.00: # (node 90)\n",
      "                            # node 91: impurity = 132.39\n",
      "                            if X_i[2] < 0.99: # (node 91)\n",
      "                                # node 92: impurity = 120.31\n",
      "                                if X_i[2] < 0.98: # (node 92)\n",
      "                                    # node 93: impurity = 164.57\n",
      "                                    return [[ 254.41237113]] # (node 93)\n",
      "                                else:\n",
      "                                    # node 94: impurity = 78.58\n",
      "                                    return [[ 249.17170281]] # (node 94)\n",
      "                            else:\n",
      "                                # node 95: impurity = 76.52\n",
      "                                return [[ 262.26804124]] # (node 95)\n",
      "                        else:\n",
      "                            # node 96: impurity = 53.33\n",
      "                            if X_i[2] < 0.98: # (node 96)\n",
      "                                # node 97: impurity = 34.57\n",
      "                                return [[ 271.90450353]] # (node 97)\n",
      "                            else:\n",
      "                                # node 98: impurity = 46.29\n",
      "                                if X_i[2] < 0.99: # (node 98)\n",
      "                                    # node 99: impurity = 48.84\n",
      "                                    return [[ 282.50721649]] # (node 99)\n",
      "                                else:\n",
      "                                    # node 100: impurity = 16.35\n",
      "                                    return [[ 275.28462573]] # (node 100)\n",
      "                    else:\n",
      "                        # node 101: impurity = 7904.43\n",
      "                        return [[ 170.27179007]] # (node 101)\n",
      "                else:\n",
      "                    # node 102: impurity = 838.26\n",
      "                    if X_i[2] < 1.03: # (node 102)\n",
      "                        # node 103: impurity = 1233.92\n",
      "                        return [[ 303.71134021]] # (node 103)\n",
      "                    else:\n",
      "                        # node 104: impurity = 688.27\n",
      "                        if X_i[2] < 1.03: # (node 104)\n",
      "                            # node 105: impurity = 643.92\n",
      "                            if X_i[2] < 1.03: # (node 105)\n",
      "                                # node 106: impurity = 1139.09\n",
      "                                return [[ 321.4591594]] # (node 106)\n",
      "                            else:\n",
      "                                # node 107: impurity = 74.21\n",
      "                                return [[ 325.79112506]] # (node 107)\n",
      "                        else:\n",
      "                            # node 108: impurity = 665.74\n",
      "                            return [[ 310.23430178]] # (node 108)\n",
      "            else:\n",
      "                # node 109: impurity = 4113.37\n",
      "                if X_i[2] < 1.04: # (node 109)\n",
      "                    # node 110: impurity = 751.96\n",
      "                    if X_i[2] < 0.98: # (node 110)\n",
      "                        # node 111: impurity = 601.85\n",
      "                        return [[ 227.01030928]] # (node 111)\n",
      "                    else:\n",
      "                        # node 112: impurity = 602.25\n",
      "                        if X_i[2] < 0.99: # (node 112)\n",
      "                            # node 113: impurity = 414.45\n",
      "                            return [[ 264.70236116]] # (node 113)\n",
      "                        else:\n",
      "                            # node 114: impurity = 682.18\n",
      "                            if X_i[2] < 1.00: # (node 114)\n",
      "                                # node 115: impurity = 591.95\n",
      "                                return [[ 247.69161811]] # (node 115)\n",
      "                            else:\n",
      "                                # node 116: impurity = 689.47\n",
      "                                return [[ 260.41237113]] # (node 116)\n",
      "                else:\n",
      "                    # node 117: impurity = 8556.44\n",
      "                    return [[ 149.19587629]] # (node 117)\n",
      "        else:\n",
      "            # node 118: impurity = 1351.54\n",
      "            if X_i[1] < 9.50: # (node 118)\n",
      "                # node 119: impurity = 706.20\n",
      "                return [[ 332.68453608]] # (node 119)\n",
      "            else:\n",
      "                # node 120: impurity = 1429.74\n",
      "                if X_i[2] < 1.05: # (node 120)\n",
      "                    # node 121: impurity = 2449.91\n",
      "                    return [[ 283.77478192]] # (node 121)\n",
      "                else:\n",
      "                    # node 122: impurity = 640.38\n",
      "                    if X_i[2] < 1.05: # (node 122)\n",
      "                        # node 123: impurity = 1101.72\n",
      "                        return [[ 325.81068416]] # (node 123)\n",
      "                    else:\n",
      "                        # node 124: impurity = 195.09\n",
      "                        if X_i[2] < 1.06: # (node 124)\n",
      "                            # node 125: impurity = 238.47\n",
      "                            return [[ 315.26858383]] # (node 125)\n",
      "                        else:\n",
      "                            # node 126: impurity = 114.20\n",
      "                            return [[ 323.10491207]] # (node 126)\n"
     ]
    }
   ],
   "source": [
    "print_tree(bestmodel.tree_)"
   ]
  },
  {
   "cell_type": "markdown",
   "metadata": {},
   "source": [
    "# Predict the entry load (filter clogging) in function of the current consumed by the pump"
   ]
  },
  {
   "cell_type": "markdown",
   "metadata": {},
   "source": [
    "We will keep only the features and the label we will use for the model"
   ]
  },
  {
   "cell_type": "code",
   "execution_count": 196,
   "metadata": {
    "collapsed": false
   },
   "outputs": [],
   "source": [
    "trainSet, testSet = split_train_test(pumpdataCleaned)\n",
    "trainfeatures = get_feature(trainSet)\n",
    "trainlabels = get_label(trainSet,\"NormEntryLoad\")"
   ]
  },
  {
   "cell_type": "code",
   "execution_count": 197,
   "metadata": {
    "collapsed": false
   },
   "outputs": [
    {
     "name": "stdout",
     "output_type": "stream",
     "text": [
      "<class 'pandas.core.frame.DataFrame'>\n",
      "DatetimeIndex: 1544 entries, 2017-04-23 19:34:18.116000 to 2017-04-23 19:54:42.984000\n",
      "Data columns (total 3 columns):\n",
      "OutputLoad         1544 non-null int64\n",
      "PumpVelocity       1544 non-null int64\n",
      "CurrentFiltered    1544 non-null float64\n",
      "dtypes: float64(1), int64(2)\n",
      "memory usage: 48.2 KB\n"
     ]
    },
    {
     "data": {
      "text/html": [
       "<div>\n",
       "<table border=\"1\" class=\"dataframe\">\n",
       "  <thead>\n",
       "    <tr style=\"text-align: right;\">\n",
       "      <th></th>\n",
       "      <th>OutputLoad</th>\n",
       "      <th>PumpVelocity</th>\n",
       "      <th>CurrentFiltered</th>\n",
       "    </tr>\n",
       "    <tr>\n",
       "      <th>DateTime</th>\n",
       "      <th></th>\n",
       "      <th></th>\n",
       "      <th></th>\n",
       "    </tr>\n",
       "  </thead>\n",
       "  <tbody>\n",
       "    <tr>\n",
       "      <th>2017-04-23 19:34:18.116</th>\n",
       "      <td>50</td>\n",
       "      <td>10</td>\n",
       "      <td>0.978082</td>\n",
       "    </tr>\n",
       "    <tr>\n",
       "      <th>2017-04-23 16:01:01.146</th>\n",
       "      <td>100</td>\n",
       "      <td>9</td>\n",
       "      <td>1.016098</td>\n",
       "    </tr>\n",
       "    <tr>\n",
       "      <th>2017-04-23 17:19:37.539</th>\n",
       "      <td>100</td>\n",
       "      <td>7</td>\n",
       "      <td>0.919309</td>\n",
       "    </tr>\n",
       "    <tr>\n",
       "      <th>2017-04-23 20:34:05.840</th>\n",
       "      <td>50</td>\n",
       "      <td>9</td>\n",
       "      <td>0.990225</td>\n",
       "    </tr>\n",
       "    <tr>\n",
       "      <th>2017-04-23 18:22:17.162</th>\n",
       "      <td>100</td>\n",
       "      <td>6</td>\n",
       "      <td>0.821709</td>\n",
       "    </tr>\n",
       "  </tbody>\n",
       "</table>\n",
       "</div>"
      ],
      "text/plain": [
       "                         OutputLoad  PumpVelocity  CurrentFiltered\n",
       "DateTime                                                          \n",
       "2017-04-23 19:34:18.116          50            10         0.978082\n",
       "2017-04-23 16:01:01.146         100             9         1.016098\n",
       "2017-04-23 17:19:37.539         100             7         0.919309\n",
       "2017-04-23 20:34:05.840          50             9         0.990225\n",
       "2017-04-23 18:22:17.162         100             6         0.821709"
      ]
     },
     "execution_count": 197,
     "metadata": {},
     "output_type": "execute_result"
    }
   ],
   "source": [
    "trainfeatures.info()\n",
    "trainfeatures.head()"
   ]
  },
  {
   "cell_type": "code",
   "execution_count": 198,
   "metadata": {
    "collapsed": false
   },
   "outputs": [
    {
     "data": {
      "text/plain": [
       "DateTime\n",
       "2017-04-23 19:34:18.116    15.686275\n",
       "2017-04-23 16:01:01.146    99.607843\n",
       "2017-04-23 17:19:37.539    87.058824\n",
       "2017-04-23 20:34:05.840    53.333333\n",
       "2017-04-23 18:22:17.162    61.960784\n",
       "Name: NormEntryLoad, dtype: float64"
      ]
     },
     "execution_count": 198,
     "metadata": {},
     "output_type": "execute_result"
    }
   ],
   "source": [
    "trainlabels.head()"
   ]
  },
  {
   "cell_type": "code",
   "execution_count": 199,
   "metadata": {
    "collapsed": false
   },
   "outputs": [
    {
     "name": "stdout",
     "output_type": "stream",
     "text": [
      "KFold number    : 10\n",
      "Best Params     : {'max_depth': 13, 'min_samples_leaf': 9}\n",
      "Best Score R^2  : 0.447200534547\n"
     ]
    }
   ],
   "source": [
    "predictions,bestmodel= fitandPredictCV(\"NormEntryLoad\",10)"
   ]
  },
  {
   "cell_type": "code",
   "execution_count": 200,
   "metadata": {
    "collapsed": false
   },
   "outputs": [
    {
     "data": {
      "image/png": "[encoded data removed]",
      "text/plain": [
       "<matplotlib.figure.Figure at 0x12452dee80>"
      ]
     },
     "metadata": {},
     "output_type": "display_data"
    }
   ],
   "source": [
    "plotLabelversusPrediction(testSet,\"NormEntryLoad\",predictions)"
   ]
  },
  {
   "cell_type": "code",
   "execution_count": 201,
   "metadata": {
    "collapsed": false
   },
   "outputs": [
    {
     "name": "stdout",
     "output_type": "stream",
     "text": [
      "def predict(X_i):\n",
      "    # node 0: impurity = 846.82\n",
      "    if X_i[2] < 0.76: # (node 0)\n",
      "        # node 1: impurity = 89.01\n",
      "        if X_i[2] < 0.76: # (node 1)\n",
      "            # node 2: impurity = 60.87\n",
      "            if X_i[2] < 0.75: # (node 2)\n",
      "                # node 3: impurity = 17.87\n",
      "                return [[ 14.50980392]] # (node 3)\n",
      "            else:\n",
      "                # node 4: impurity = 75.74\n",
      "                if X_i[2] < 0.75: # (node 4)\n",
      "                    # node 5: impurity = 42.16\n",
      "                    return [[ 6.18736383]] # (node 5)\n",
      "                else:\n",
      "                    # node 6: impurity = 75.73\n",
      "                    return [[ 13.7254902]] # (node 6)\n",
      "        else:\n",
      "            # node 7: impurity = 32.44\n",
      "            return [[ 25.49019608]] # (node 7)\n",
      "    else:\n",
      "        # node 8: impurity = 834.53\n",
      "        if X_i[1] < 5.50: # (node 8)\n",
      "            # node 9: impurity = 386.71\n",
      "            if X_i[2] < 0.77: # (node 9)\n",
      "                # node 10: impurity = 98.55\n",
      "                if X_i[2] < 0.76: # (node 10)\n",
      "                    # node 11: impurity = 27.17\n",
      "                    if X_i[2] < 0.76: # (node 11)\n",
      "                        # node 12: impurity = 23.46\n",
      "                        if X_i[2] < 0.76: # (node 12)\n",
      "                            # node 13: impurity = 18.80\n",
      "                            return [[ 39.81900452]] # (node 13)\n",
      "                        else:\n",
      "                            # node 14: impurity = 27.29\n",
      "                            return [[ 37.60348584]] # (node 14)\n",
      "                    else:\n",
      "                        # node 15: impurity = 22.53\n",
      "                        return [[ 43.31154684]] # (node 15)\n",
      "                else:\n",
      "                    # node 16: impurity = 23.00\n",
      "                    if X_i[2] < 0.77: # (node 16)\n",
      "                        # node 17: impurity = 5.60\n",
      "                        return [[ 53.12217195]] # (node 17)\n",
      "                    else:\n",
      "                        # node 18: impurity = 7.04\n",
      "                        return [[ 61.28851541]] # (node 18)\n",
      "            else:\n",
      "                # node 19: impurity = 106.39\n",
      "                if X_i[2] < 0.78: # (node 19)\n",
      "                    # node 20: impurity = 26.59\n",
      "                    if X_i[2] < 0.77: # (node 20)\n",
      "                        # node 21: impurity = 13.53\n",
      "                        return [[ 70.03460208]] # (node 21)\n",
      "                    else:\n",
      "                        # node 22: impurity = 11.92\n",
      "                        return [[ 77.68627451]] # (node 22)\n",
      "                else:\n",
      "                    # node 23: impurity = 28.23\n",
      "                    if X_i[2] < 0.83: # (node 23)\n",
      "                        # node 24: impurity = 23.56\n",
      "                        if X_i[2] < 0.79: # (node 24)\n",
      "                            # node 25: impurity = 17.21\n",
      "                            return [[ 87.01525054]] # (node 25)\n",
      "                        else:\n",
      "                            # node 26: impurity = 25.90\n",
      "                            return [[ 89.68627451]] # (node 26)\n",
      "                    else:\n",
      "                        # node 27: impurity = 5.62\n",
      "                        return [[ 95.33769063]] # (node 27)\n",
      "        else:\n",
      "            # node 28: impurity = 852.93\n",
      "            if X_i[2] < 0.82: # (node 28)\n",
      "                # node 29: impurity = 890.83\n",
      "                if X_i[0] < 75.00: # (node 29)\n",
      "                    # node 30: impurity = 195.73\n",
      "                    if X_i[2] < 0.81: # (node 30)\n",
      "                        # node 31: impurity = 53.26\n",
      "                        if X_i[2] < 0.80: # (node 31)\n",
      "                            # node 32: impurity = 33.02\n",
      "                            if X_i[2] < 0.80: # (node 32)\n",
      "                                # node 33: impurity = 5.07\n",
      "                                return [[ 12.15686275]] # (node 33)\n",
      "                            else:\n",
      "                                # node 34: impurity = 43.36\n",
      "                                return [[ 7.08898944]] # (node 34)\n",
      "                        else:\n",
      "                            # node 35: impurity = 31.07\n",
      "                            return [[ 19.4335512]] # (node 35)\n",
      "                    else:\n",
      "                        # node 36: impurity = 68.43\n",
      "                        if X_i[2] < 0.81: # (node 36)\n",
      "                            # node 37: impurity = 40.47\n",
      "                            if X_i[2] < 0.81: # (node 37)\n",
      "                                # node 38: impurity = 30.79\n",
      "                                return [[ 27.7124183]] # (node 38)\n",
      "                            else:\n",
      "                                # node 39: impurity = 36.24\n",
      "                                return [[ 32.98474946]] # (node 39)\n",
      "                        else:\n",
      "                            # node 40: impurity = 39.77\n",
      "                            return [[ 41.00490196]] # (node 40)\n",
      "                else:\n",
      "                    # node 41: impurity = 1698.68\n",
      "                    if X_i[2] < 0.81: # (node 41)\n",
      "                        # node 42: impurity = 11.48\n",
      "                        return [[ 94.11764706]] # (node 42)\n",
      "                    else:\n",
      "                        # node 43: impurity = 567.59\n",
      "                        if X_i[2] < 0.82: # (node 43)\n",
      "                            # node 44: impurity = 964.81\n",
      "                            return [[ 25.25490196]] # (node 44)\n",
      "                        else:\n",
      "                            # node 45: impurity = 66.50\n",
      "                            return [[ 8.94607843]] # (node 45)\n",
      "            else:\n",
      "                # node 46: impurity = 819.89\n",
      "                if X_i[1] < 6.50: # (node 46)\n",
      "                    # node 47: impurity = 391.98\n",
      "                    if X_i[2] < 0.84: # (node 47)\n",
      "                        # node 48: impurity = 327.73\n",
      "                        if X_i[0] < 75.00: # (node 48)\n",
      "                            # node 49: impurity = 117.45\n",
      "                            if X_i[2] < 0.82: # (node 49)\n",
      "                                # node 50: impurity = 236.76\n",
      "                                return [[ 56.99346405]] # (node 50)\n",
      "                            else:\n",
      "                                # node 51: impurity = 80.12\n",
      "                                if X_i[2] < 0.83: # (node 51)\n",
      "                                    # node 52: impurity = 92.75\n",
      "                                    if X_i[2] < 0.82: # (node 52)\n",
      "                                        # node 53: impurity = 99.91\n",
      "                                        if X_i[2] < 0.82: # (node 53)\n",
      "                                            # node 54: impurity = 71.19\n",
      "                                            return [[ 64.88017429]] # (node 54)\n",
      "                                        else:\n",
      "                                            # node 55: impurity = 121.12\n",
      "                                            return [[ 68.75816993]] # (node 55)\n",
      "                                    else:\n",
      "                                        # node 56: impurity = 36.44\n",
      "                                        return [[ 58.10457516]] # (node 56)\n",
      "                                else:\n",
      "                                    # node 57: impurity = 24.50\n",
      "                                    return [[ 68.19607843]] # (node 57)\n",
      "                        else:\n",
      "                            # node 58: impurity = 386.60\n",
      "                            if X_i[2] < 0.83: # (node 58)\n",
      "                                # node 59: impurity = 380.73\n",
      "                                if X_i[2] < 0.82: # (node 59)\n",
      "                                    # node 60: impurity = 614.65\n",
      "                                    return [[ 43.03030303]] # (node 60)\n",
      "                                else:\n",
      "                                    # node 61: impurity = 312.54\n",
      "                                    if X_i[2] < 0.82: # (node 61)\n",
      "                                        # node 62: impurity = 243.43\n",
      "                                        return [[ 59.78213508]] # (node 62)\n",
      "                                    else:\n",
      "                                        # node 63: impurity = 314.13\n",
      "                                        if X_i[2] < 0.82: # (node 63)\n",
      "                                            # node 64: impurity = 186.75\n",
      "                                            return [[ 41.91721133]] # (node 64)\n",
      "                                        else:\n",
      "                                            # node 65: impurity = 319.61\n",
      "                                            if X_i[2] < 0.82: # (node 65)\n",
      "                                                # node 66: impurity = 452.06\n",
      "                                                return [[ 50.36414566]] # (node 66)\n",
      "                                            else:\n",
      "                                                # node 67: impurity = 201.41\n",
      "                                                if X_i[2] < 0.82: # (node 67)\n",
      "                                                    # node 68: impurity = 213.52\n",
      "                                                    return [[ 59.60784314]] # (node 68)\n",
      "                                                else:\n",
      "                                                    # node 69: impurity = 166.79\n",
      "                                                    return [[ 52.89760349]] # (node 69)\n",
      "                            else:\n",
      "                                # node 70: impurity = 120.99\n",
      "                                return [[ 32.20043573]] # (node 70)\n",
      "                    else:\n",
      "                        # node 71: impurity = 271.88\n",
      "                        if X_i[2] < 0.87: # (node 71)\n",
      "                            # node 72: impurity = 257.85\n",
      "                            if X_i[2] < 0.84: # (node 72)\n",
      "                                # node 73: impurity = 340.42\n",
      "                                return [[ 76.68845316]] # (node 73)\n",
      "                            else:\n",
      "                                # node 74: impurity = 163.46\n",
      "                                return [[ 65.75163399]] # (node 74)\n",
      "                        else:\n",
      "                            # node 75: impurity = 35.52\n",
      "                            return [[ 89.41176471]] # (node 75)\n",
      "                else:\n",
      "                    # node 76: impurity = 866.83\n",
      "                    if X_i[2] < 0.84: # (node 76)\n",
      "                        # node 77: impurity = 50.04\n",
      "                        if X_i[2] < 0.84: # (node 77)\n",
      "                            # node 78: impurity = 12.31\n",
      "                            return [[ 12.33511586]] # (node 78)\n",
      "                        else:\n",
      "                            # node 79: impurity = 72.05\n",
      "                            return [[ 8.67973856]] # (node 79)\n",
      "                    else:\n",
      "                        # node 80: impurity = 848.78\n",
      "                        if X_i[2] < 0.89: # (node 80)\n",
      "                            # node 81: impurity = 626.71\n",
      "                            if X_i[2] < 0.87: # (node 81)\n",
      "                                # node 82: impurity = 895.13\n",
      "                                if X_i[2] < 0.85: # (node 82)\n",
      "                                    # node 83: impurity = 1507.11\n",
      "                                    return [[ 41.39705882]] # (node 83)\n",
      "                                else:\n",
      "                                    # node 84: impurity = 626.00\n",
      "                                    if X_i[2] < 0.86: # (node 84)\n",
      "                                        # node 85: impurity = 843.27\n",
      "                                        if X_i[2] < 0.86: # (node 85)\n",
      "                                            # node 86: impurity = 1168.74\n",
      "                                            return [[ 56.38344227]] # (node 86)\n",
      "                                        else:\n",
      "                                            # node 87: impurity = 509.07\n",
      "                                            return [[ 44.09982175]] # (node 87)\n",
      "                                    else:\n",
      "                                        # node 88: impurity = 410.81\n",
      "                                        if X_i[2] < 0.87: # (node 88)\n",
      "                                            # node 89: impurity = 600.87\n",
      "                                            return [[ 61.74688057]] # (node 89)\n",
      "                                        else:\n",
      "                                            # node 90: impurity = 148.14\n",
      "                                            return [[ 49.6969697]] # (node 90)\n",
      "                            else:\n",
      "                                # node 91: impurity = 169.22\n",
      "                                if X_i[2] < 0.88: # (node 91)\n",
      "                                    # node 92: impurity = 117.69\n",
      "                                    if X_i[2] < 0.88: # (node 92)\n",
      "                                        # node 93: impurity = 130.35\n",
      "                                        if X_i[2] < 0.88: # (node 93)\n",
      "                                            # node 94: impurity = 253.37\n",
      "                                            return [[ 65.75163399]] # (node 94)\n",
      "                                        else:\n",
      "                                            # node 95: impurity = 29.27\n",
      "                                            return [[ 73.24929972]] # (node 95)\n",
      "                                    else:\n",
      "                                        # node 96: impurity = 62.16\n",
      "                                        if X_i[2] < 0.88: # (node 96)\n",
      "                                            # node 97: impurity = 81.58\n",
      "                                            return [[ 61.4379085]] # (node 97)\n",
      "                                        else:\n",
      "                                            # node 98: impurity = 28.50\n",
      "                                            return [[ 60.]] # (node 98)\n",
      "                                else:\n",
      "                                    # node 99: impurity = 74.41\n",
      "                                    return [[ 84.80392157]] # (node 99)\n",
      "                        else:\n",
      "                            # node 100: impurity = 863.95\n",
      "                            if X_i[2] < 0.91: # (node 100)\n",
      "                                # node 101: impurity = 1061.90\n",
      "                                if X_i[1] < 7.50: # (node 101)\n",
      "                                    # node 102: impurity = 1589.78\n",
      "                                    if X_i[2] < 0.90: # (node 102)\n",
      "                                        # node 103: impurity = 1669.57\n",
      "                                        return [[ 66.95187166]] # (node 103)\n",
      "                                    else:\n",
      "                                        # node 104: impurity = 965.98\n",
      "                                        return [[ 28.78892734]] # (node 104)\n",
      "                                else:\n",
      "                                    # node 105: impurity = 696.03\n",
      "                                    if X_i[2] < 0.90: # (node 105)\n",
      "                                        # node 106: impurity = 414.98\n",
      "                                        if X_i[2] < 0.90: # (node 106)\n",
      "                                            # node 107: impurity = 391.61\n",
      "                                            if X_i[2] < 0.90: # (node 107)\n",
      "                                                # node 108: impurity = 652.87\n",
      "                                                return [[ 20.35294118]] # (node 108)\n",
      "                                            else:\n",
      "                                                # node 109: impurity = 38.31\n",
      "                                                return [[ 9.41176471]] # (node 109)\n",
      "                                        else:\n",
      "                                            # node 110: impurity = 392.18\n",
      "                                            return [[ 24.79815456]] # (node 110)\n",
      "                                    else:\n",
      "                                        # node 111: impurity = 847.22\n",
      "                                        return [[ 45.28258362]] # (node 111)\n",
      "                            else:\n",
      "                                # node 112: impurity = 821.21\n",
      "                                if X_i[2] < 0.95: # (node 112)\n",
      "                                    # node 113: impurity = 545.54\n",
      "                                    if X_i[2] < 0.93: # (node 113)\n",
      "                                        # node 114: impurity = 693.00\n",
      "                                        if X_i[1] < 7.50: # (node 114)\n",
      "                                            # node 115: impurity = 685.18\n",
      "                                            if X_i[2] < 0.91: # (node 115)\n",
      "                                                # node 116: impurity = 1103.75\n",
      "                                                if X_i[2] < 0.91: # (node 116)\n",
      "                                                    # node 117: impurity = 1029.32\n",
      "                                                    return [[ 35.46840959]] # (node 117)\n",
      "                                                else:\n",
      "                                                    # node 118: impurity = 1107.22\n",
      "                                                    return [[ 24.17112299]] # (node 118)\n",
      "                                            else:\n",
      "                                                # node 119: impurity = 394.15\n",
      "                                                if X_i[2] < 0.92: # (node 119)\n",
      "                                                    # node 120: impurity = 393.61\n",
      "                                                    if X_i[2] < 0.92: # (node 120)\n",
      "                                                        # node 121: impurity = 745.45\n",
      "                                                        return [[ 48.19607843]] # (node 121)\n",
      "                                                    else:\n",
      "                                                        # node 122: impurity = 54.42\n",
      "                                                        return [[ 38.1372549]] # (node 122)\n",
      "                                                else:\n",
      "                                                    # node 123: impurity = 367.94\n",
      "                                                    if X_i[2] < 0.92: # (node 123)\n",
      "                                                        # node 124: impurity = 530.29\n",
      "                                                        return [[ 55.4248366]] # (node 124)\n",
      "                                                    else:\n",
      "                                                        # node 125: impurity = 189.08\n",
      "                                                        return [[ 45.31194296]] # (node 125)\n",
      "                                        else:\n",
      "                                            # node 126: impurity = 464.78\n",
      "                                            if X_i[2] < 0.92: # (node 126)\n",
      "                                                # node 127: impurity = 666.29\n",
      "                                                if X_i[2] < 0.91: # (node 127)\n",
      "                                                    # node 128: impurity = 832.08\n",
      "                                                    return [[ 62.99465241]] # (node 128)\n",
      "                                                else:\n",
      "                                                    # node 129: impurity = 506.57\n",
      "                                                    return [[ 71.17647059]] # (node 129)\n",
      "                                            else:\n",
      "                                                # node 130: impurity = 214.00\n",
      "                                                if X_i[2] < 0.92: # (node 130)\n",
      "                                                    # node 131: impurity = 229.68\n",
      "                                                    if X_i[2] < 0.92: # (node 131)\n",
      "                                                        # node 132: impurity = 304.96\n",
      "                                                        return [[ 55.25054466]] # (node 132)\n",
      "                                                    else:\n",
      "                                                        # node 133: impurity = 150.98\n",
      "                                                        return [[ 52.63616558]] # (node 133)\n",
      "                                                else:\n",
      "                                                    # node 134: impurity = 156.76\n",
      "                                                    return [[ 60.17429194]] # (node 134)\n",
      "                                    else:\n",
      "                                        # node 135: impurity = 131.32\n",
      "                                        if X_i[2] < 0.93: # (node 135)\n",
      "                                            # node 136: impurity = 96.42\n",
      "                                            if X_i[1] < 7.50: # (node 136)\n",
      "                                                # node 137: impurity = 113.28\n",
      "                                                if X_i[2] < 0.93: # (node 137)\n",
      "                                                    # node 138: impurity = 133.23\n",
      "                                                    if X_i[2] < 0.93: # (node 138)\n",
      "                                                        # node 139: impurity = 202.08\n",
      "                                                        return [[ 66.44880174]] # (node 139)\n",
      "                                                    else:\n",
      "                                                        # node 140: impurity = 84.12\n",
      "                                                        return [[ 69.9719888]] # (node 140)\n",
      "                                                else:\n",
      "                                                    # node 141: impurity = 71.67\n",
      "                                                    if X_i[2] < 0.93: # (node 141)\n",
      "                                                        # node 142: impurity = 56.16\n",
      "                                                        return [[ 58.78787879]] # (node 142)\n",
      "                                                    else:\n",
      "                                                        # node 143: impurity = 49.35\n",
      "                                                        return [[ 67.45098039]] # (node 143)\n",
      "                                            else:\n",
      "                                                # node 144: impurity = 55.59\n",
      "                                                if X_i[2] < 0.93: # (node 144)\n",
      "                                                    # node 145: impurity = 86.28\n",
      "                                                    return [[ 67.21568627]] # (node 145)\n",
      "                                                else:\n",
      "                                                    # node 146: impurity = 26.73\n",
      "                                                    return [[ 72.61822376]] # (node 146)\n",
      "                                        else:\n",
      "                                            # node 147: impurity = 138.89\n",
      "                                            if X_i[2] < 0.94: # (node 147)\n",
      "                                                # node 148: impurity = 74.33\n",
      "                                                return [[ 75.90413943]] # (node 148)\n",
      "                                            else:\n",
      "                                                # node 149: impurity = 168.86\n",
      "                                                return [[ 83.03030303]] # (node 149)\n",
      "                                else:\n",
      "                                    # node 150: impurity = 875.65\n",
      "                                    if X_i[2] < 0.98: # (node 150)\n",
      "                                        # node 151: impurity = 1014.43\n",
      "                                        if X_i[1] < 7.50: # (node 151)\n",
      "                                            # node 152: impurity = 55.48\n",
      "                                            return [[ 87.34402852]] # (node 152)\n",
      "                                        else:\n",
      "                                            # node 153: impurity = 898.80\n",
      "                                            if X_i[2] < 0.96: # (node 153)\n",
      "                                                # node 154: impurity = 836.41\n",
      "                                                if X_i[2] < 0.95: # (node 154)\n",
      "                                                    # node 155: impurity = 1771.71\n",
      "                                                    return [[ 43.96514161]] # (node 155)\n",
      "                                                else:\n",
      "                                                    # node 156: impurity = 630.32\n",
      "                                                    if X_i[0] < 75.00: # (node 156)\n",
      "                                                        # node 157: impurity = 915.35\n",
      "                                                        return [[ 25.24886878]] # (node 157)\n",
      "                                                    else:\n",
      "                                                        # node 158: impurity = 34.28\n",
      "                                                        return [[ 13.33333333]] # (node 158)\n",
      "                                            else:\n",
      "                                                # node 159: impurity = 876.41\n",
      "                                                if X_i[1] < 9.50: # (node 159)\n",
      "                                                    # node 160: impurity = 895.79\n",
      "                                                    if X_i[2] < 0.97: # (node 160)\n",
      "                                                        # node 161: impurity = 1100.74\n",
      "                                                        return [[ 37.13634291]] # (node 161)\n",
      "                                                    else:\n",
      "                                                        # node 162: impurity = 566.24\n",
      "                                                        return [[ 51.65686275]] # (node 162)\n",
      "                                                else:\n",
      "                                                    # node 163: impurity = 317.99\n",
      "                                                    if X_i[2] < 0.97: # (node 163)\n",
      "                                                        # node 164: impurity = 584.03\n",
      "                                                        return [[ 28.67102397]] # (node 164)\n",
      "                                                    else:\n",
      "                                                        # node 165: impurity = 153.24\n",
      "                                                        return [[ 13.23529412]] # (node 165)\n",
      "                                    else:\n",
      "                                        # node 166: impurity = 721.36\n",
      "                                        if X_i[2] < 1.01: # (node 166)\n",
      "                                            # node 167: impurity = 433.60\n",
      "                                            if X_i[2] < 0.98: # (node 167)\n",
      "                                                # node 168: impurity = 500.06\n",
      "                                                if X_i[1] < 9.50: # (node 168)\n",
      "                                                    # node 169: impurity = 242.32\n",
      "                                                    if X_i[2] < 0.98: # (node 169)\n",
      "                                                        # node 170: impurity = 236.48\n",
      "                                                        return [[ 71.81699346]] # (node 170)\n",
      "                                                    else:\n",
      "                                                        # node 171: impurity = 192.94\n",
      "                                                        return [[ 57.26324572]] # (node 171)\n",
      "                                                else:\n",
      "                                                    # node 172: impurity = 134.02\n",
      "                                                    if X_i[2] < 0.98: # (node 172)\n",
      "                                                        # node 173: impurity = 49.89\n",
      "                                                        return [[ 14.35294118]] # (node 173)\n",
      "                                                    else:\n",
      "                                                        # node 174: impurity = 121.55\n",
      "                                                        return [[ 28.54030501]] # (node 174)\n",
      "                                            else:\n",
      "                                                # node 175: impurity = 310.91\n",
      "                                                if X_i[2] < 1.01: # (node 175)\n",
      "                                                    # node 176: impurity = 299.46\n",
      "                                                    if X_i[2] < 1.00: # (node 176)\n",
      "                                                        # node 177: impurity = 317.67\n",
      "                                                        return [[ 69.69880736]] # (node 177)\n",
      "                                                    else:\n",
      "                                                        # node 178: impurity = 128.72\n",
      "                                                        return [[ 56.2219034]] # (node 178)\n",
      "                                                else:\n",
      "                                                    # node 179: impurity = 36.74\n",
      "                                                    return [[ 87.58169935]] # (node 179)\n",
      "                                        else:\n",
      "                                            # node 180: impurity = 867.42\n",
      "                                            if X_i[2] < 1.02: # (node 180)\n",
      "                                                # node 181: impurity = 467.65\n",
      "                                                if X_i[2] < 1.02: # (node 181)\n",
      "                                                    # node 182: impurity = 1214.95\n",
      "                                                    return [[ 21.66666667]] # (node 182)\n",
      "                                                else:\n",
      "                                                    # node 183: impurity = 39.22\n",
      "                                                    if X_i[2] < 1.02: # (node 183)\n",
      "                                                        # node 184: impurity = 19.02\n",
      "                                                        return [[ 7.5070028]] # (node 184)\n",
      "                                                    else:\n",
      "                                                        # node 185: impurity = 20.30\n",
      "                                                        return [[ 16.60130719]] # (node 185)\n",
      "                                            else:\n",
      "                                                # node 186: impurity = 748.94\n",
      "                                                if X_i[1] < 9.50: # (node 186)\n",
      "                                                    # node 187: impurity = 487.44\n",
      "                                                    if X_i[2] < 1.04: # (node 187)\n",
      "                                                        # node 188: impurity = 466.32\n",
      "                                                        return [[ 58.61793261]] # (node 188)\n",
      "                                                    else:\n",
      "                                                        # node 189: impurity = 303.51\n",
      "                                                        return [[ 80.13071895]] # (node 189)\n",
      "                                                else:\n",
      "                                                    # node 190: impurity = 858.74\n",
      "                                                    if X_i[2] < 1.04: # (node 190)\n",
      "                                                        # node 191: impurity = 76.62\n",
      "                                                        return [[ 12.24509804]] # (node 191)\n",
      "                                                    else:\n",
      "                                                        # node 192: impurity = 518.33\n",
      "                                                        return [[ 59.21096149]] # (node 192)\n"
     ]
    }
   ],
   "source": [
    "print_tree(bestmodel.tree_)"
   ]
  }
 ],
 "metadata": {
  "kernelspec": {
   "display_name": "Python 3",
   "language": "python",
   "name": "python3"
  },
  "language_info": {
   "codemirror_mode": {
    "name": "ipython",
    "version": 3
   },
   "file_extension": ".py",
   "mimetype": "text/x-python",
   "name": "python",
   "nbconvert_exporter": "python",
   "pygments_lexer": "ipython3",
   "version": "3.6.0"
  }
 },
 "nbformat": 4,
 "nbformat_minor": 2
}
